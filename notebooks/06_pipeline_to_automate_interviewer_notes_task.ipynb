{
 "cells": [
  {
   "cell_type": "markdown",
   "metadata": {},
   "source": [
    "### This notebook aims to demonstrate how to use the JumpStart API for interviewee's answers Summarization. \n",
    "\n",
    "This code is inspired by [this](https://github.com/aws/amazon-sagemaker-examples/blob/main/introduction_to_amazon_algorithms/jumpstart_text_summarization/Amazon_JumpStart_Text_Summarization.ipynb) project."
   ]
  },
  {
   "cell_type": "markdown",
   "metadata": {},
   "source": [
    "### Step 1: Set Up\n",
    "---\n",
    "\n",
    "This notebook requires latest version of sagemaker and ipywidgets\n",
    "\n",
    "---"
   ]
  },
  {
   "cell_type": "code",
   "execution_count": 30,
   "metadata": {},
   "outputs": [],
   "source": [
    "!pip install sagemaker ipywidgets --upgrade --quiet"
   ]
  },
  {
   "cell_type": "code",
   "execution_count": 1,
   "metadata": {},
   "outputs": [],
   "source": [
    "import sagemaker, boto3, json\n",
    "from sagemaker import get_execution_role\n",
    "\n",
    "aws_role = get_execution_role()\n",
    "aws_region = boto3.Session().region_name\n",
    "sess = sagemaker.Session()\n"
   ]
  },
  {
   "cell_type": "markdown",
   "metadata": {},
   "source": [
    "### Step 2: Select a model\n",
    "\n",
    "---\n",
    "We download jumpstart model_manifest file from the jumpstart s3 bucket, filter-out all the Text Summarization models and select a model for inference.\n",
    "\n",
    "---"
   ]
  },
  {
   "cell_type": "code",
   "execution_count": 2,
   "metadata": {},
   "outputs": [],
   "source": [
    "from ipywidgets import Dropdown\n",
    "\n",
    "# download JumpStart model_manifest file.\n",
    "boto3.client(\"s3\").download_file(\n",
    "    f\"jumpstart-cache-prod-{aws_region}\", \"models_manifest.json\", \"models_manifest.json\"\n",
    ")\n",
    "with open(\"models_manifest.json\", \"rb\") as json_file:\n",
    "    model_list = json.load(json_file)\n",
    "\n",
    "# filter-out all the Text Summarization models from the manifest list.\n",
    "text_summarization_models = []\n",
    "for model in model_list:\n",
    "    model_id = model[\"model_id\"]\n",
    "    if \"-summarization-\" in model_id and model_id not in text_summarization_models:\n",
    "        text_summarization_models.append(model_id)\n",
    "\n",
    "# display the model-ids in a dropdown to select a model for inference.\n",
    "model_dropdown = Dropdown(\n",
    "    options=text_summarization_models,\n",
    "    value=\"huggingface-summarization-distilbart-cnn-6-6\",\n",
    "    description=\"Select a model\",\n",
    "    style={\"description_width\": \"initial\"},\n",
    "    layout={\"width\": \"max-content\"},\n",
    ")"
   ]
  },
  {
   "cell_type": "code",
   "execution_count": 33,
   "metadata": {},
   "outputs": [
    {
     "data": {
      "application/vnd.jupyter.widget-view+json": {
       "model_id": "98d8b5dbf3704b03802bdc8994379aa1",
       "version_major": 2,
       "version_minor": 0
      },
      "text/plain": [
       "Dropdown(description='Select a model', index=5, layout=Layout(width='max-content'), options=('huggingface-summ…"
      ]
     },
     "metadata": {},
     "output_type": "display_data"
    }
   ],
   "source": [
    "display(model_dropdown)"
   ]
  },
  {
   "cell_type": "code",
   "execution_count": 31,
   "metadata": {},
   "outputs": [],
   "source": [
    "from ipywidgets import Dropdown\n",
    "# model_version=\"*\" fetches the latest version of the model\n",
    "model_id, model_version = model_dropdown.value, \"*\""
   ]
  },
  {
   "cell_type": "markdown",
   "metadata": {},
   "source": [
    "### Step 3: Deploy an Endpoint"
   ]
  },
  {
   "cell_type": "code",
   "execution_count": 4,
   "metadata": {},
   "outputs": [],
   "source": [
    "from sagemaker import image_uris, model_uris, script_uris, hyperparameters\n",
    "from sagemaker.model import Model\n",
    "from sagemaker.predictor import Predictor\n",
    "from sagemaker.utils import name_from_base\n",
    "\n",
    "\n",
    "endpoint_name = name_from_base(f\"jumpstart-example-infer-{model_id}\")\n",
    "\n",
    "inference_instance_type = \"ml.m5.xlarge\"\n",
    "\n",
    "# Retrieve the inference docker container uri. This is the base HuggingFace container image for the default model above.\n",
    "deploy_image_uri = image_uris.retrieve(\n",
    "    region=None,\n",
    "    framework=None,  # automatically inferred from model_id\n",
    "    image_scope=\"inference\",\n",
    "    model_id=model_id,\n",
    "    model_version=model_version,\n",
    "    instance_type=inference_instance_type,\n",
    ")\n",
    "\n",
    "# Retrieve the inference script uri. This includes all dependencies and scripts for model loading, inference handling etc.\n",
    "deploy_source_uri = script_uris.retrieve(\n",
    "    model_id=model_id, model_version=model_version, script_scope=\"inference\"\n",
    ")\n",
    "\n",
    "\n",
    "# Retrieve the model uri. This includes the pre-trained model and parameters.\n",
    "model_uri = model_uris.retrieve(\n",
    "    model_id=model_id, model_version=model_version, model_scope=\"inference\"\n",
    ")"
   ]
  },
  {
   "cell_type": "code",
   "execution_count": 5,
   "metadata": {},
   "outputs": [
    {
     "name": "stdout",
     "output_type": "stream",
     "text": [
      "-----!"
     ]
    }
   ],
   "source": [
    "# Create the SageMaker model instance\n",
    "model = Model(\n",
    "    image_uri=deploy_image_uri,\n",
    "    source_dir=deploy_source_uri,\n",
    "    model_data=model_uri,\n",
    "    entry_point=\"inference.py\",  # entry point file in source_dir and present in deploy_source_uri\n",
    "    role=aws_role,\n",
    "    predictor_cls=Predictor,\n",
    "    name=endpoint_name,\n",
    ")\n",
    "\n",
    "# deploy the Model. Note that we need to pass Predictor class when we deploy model through Model class,\n",
    "# for being able to run inference through the sagemaker API.\n",
    "model_predictor = model.deploy(\n",
    "    initial_instance_count=1,\n",
    "    instance_type=inference_instance_type,\n",
    "    predictor_cls=Predictor,\n",
    "    endpoint_name=endpoint_name,\n",
    ")"
   ]
  },
  {
   "cell_type": "markdown",
   "metadata": {},
   "source": [
    "### Step 4: Query endpoint and parse response"
   ]
  },
  {
   "cell_type": "code",
   "execution_count": 6,
   "metadata": {},
   "outputs": [],
   "source": [
    "def query(model_predictor, text):\n",
    "    \"\"\"Query the model predictor.\"\"\"\n",
    "\n",
    "    encoded_text = text.encode(\"utf-8\")\n",
    "\n",
    "    query_response = model_predictor.predict(\n",
    "        encoded_text,\n",
    "        {\n",
    "            \"ContentType\": \"application/x-text\",\n",
    "            \"Accept\": \"application/json\",\n",
    "        },\n",
    "    )\n",
    "    return query_response\n",
    "\n",
    "\n",
    "def parse_response(query_response):\n",
    "    \"\"\"Parse response and return summary text.\"\"\"\n",
    "\n",
    "    model_predictions = json.loads(query_response)\n",
    "    translation_text = model_predictions[\"summary_text\"]\n",
    "    return translation_text"
   ]
  },
  {
   "cell_type": "markdown",
   "metadata": {},
   "source": [
    "### Step 5: Read Input file and summarise every response:\n",
    "---\n",
    "We read our input file with all responses and call model summarisation for inference.\n",
    "\n",
    "---\n"
   ]
  },
  {
   "cell_type": "code",
   "execution_count": 21,
   "metadata": {},
   "outputs": [],
   "source": [
    "import pandas as pd\n",
    "import os"
   ]
  },
  {
   "cell_type": "code",
   "execution_count": 22,
   "metadata": {},
   "outputs": [],
   "source": [
    "BUCKET='cnatest' # Or whatever you called your bucket\n",
    "data_key = 'transcript_with_mapped_questions_and_answers.csv' # Where the file is within your bucket\n",
    "data_location = 's3://{}/{}'.format(BUCKET, data_key)\n",
    "df = pd.read_csv(data_location)"
   ]
  },
  {
   "cell_type": "code",
   "execution_count": 23,
   "metadata": {},
   "outputs": [],
   "source": [
    "def summarise_response(input_text):\n",
    "    # cut input text to 5000 symbols\n",
    "    query_response = query(model_predictor, input_text[:5000])\n",
    "    summary_text = parse_response(query_response)\n",
    "    return summary_text\n",
    "    "
   ]
  },
  {
   "cell_type": "code",
   "execution_count": 24,
   "metadata": {},
   "outputs": [],
   "source": [
    "df['response_summary']=df['text'].apply(lambda x:summarise_response(x))"
   ]
  },
  {
   "cell_type": "code",
   "execution_count": 25,
   "metadata": {},
   "outputs": [
    {
     "data": {
      "text/html": [
       "<div>\n",
       "<style scoped>\n",
       "    .dataframe tbody tr th:only-of-type {\n",
       "        vertical-align: middle;\n",
       "    }\n",
       "\n",
       "    .dataframe tbody tr th {\n",
       "        vertical-align: top;\n",
       "    }\n",
       "\n",
       "    .dataframe thead th {\n",
       "        text-align: right;\n",
       "    }\n",
       "</style>\n",
       "<table border=\"1\" class=\"dataframe\">\n",
       "  <thead>\n",
       "    <tr style=\"text-align: right;\">\n",
       "      <th></th>\n",
       "      <th>responce_to_question</th>\n",
       "      <th>text</th>\n",
       "      <th>response_summary</th>\n",
       "    </tr>\n",
       "  </thead>\n",
       "  <tbody>\n",
       "    <tr>\n",
       "      <th>0</th>\n",
       "      <td>As a national savings for the healthcare syste...</td>\n",
       "      <td>if this is running correctly? And we get buy i...</td>\n",
       "      <td>Minister says 20 years in the long run we will...</td>\n",
       "    </tr>\n",
       "    <tr>\n",
       "      <th>1</th>\n",
       "      <td>Fees will be paid to GPS based on the health r...</td>\n",
       "      <td>start first. What I used to hear a lot of is t...</td>\n",
       "      <td>A G. P. Clinic in one of the older estates in...</td>\n",
       "    </tr>\n",
       "    <tr>\n",
       "      <th>2</th>\n",
       "      <td>From your point of view What is Healthier SG</td>\n",
       "      <td>I think healthier S. G. Is a whole rethinking ...</td>\n",
       "      <td>S. G. Puts the emphasis back onto the page an...</td>\n",
       "    </tr>\n",
       "    <tr>\n",
       "      <th>3</th>\n",
       "      <td>If there's one thing that you could you know c...</td>\n",
       "      <td>for me I think information to unify all the in...</td>\n",
       "      <td>The home recovery program to have a national ...</td>\n",
       "    </tr>\n",
       "    <tr>\n",
       "      <th>4</th>\n",
       "      <td>Should the typical patient be concerned about ...</td>\n",
       "      <td>over time. We will see a general increase in c...</td>\n",
       "      <td>Health care must be seen as something that co...</td>\n",
       "    </tr>\n",
       "  </tbody>\n",
       "</table>\n",
       "</div>"
      ],
      "text/plain": [
       "                                responce_to_question  \\\n",
       "0  As a national savings for the healthcare syste...   \n",
       "1  Fees will be paid to GPS based on the health r...   \n",
       "2       From your point of view What is Healthier SG   \n",
       "3  If there's one thing that you could you know c...   \n",
       "4  Should the typical patient be concerned about ...   \n",
       "\n",
       "                                                text  \\\n",
       "0  if this is running correctly? And we get buy i...   \n",
       "1  start first. What I used to hear a lot of is t...   \n",
       "2  I think healthier S. G. Is a whole rethinking ...   \n",
       "3  for me I think information to unify all the in...   \n",
       "4  over time. We will see a general increase in c...   \n",
       "\n",
       "                                    response_summary  \n",
       "0  Minister says 20 years in the long run we will...  \n",
       "1   A G. P. Clinic in one of the older estates in...  \n",
       "2   S. G. Puts the emphasis back onto the page an...  \n",
       "3   The home recovery program to have a national ...  \n",
       "4   Health care must be seen as something that co...  "
      ]
     },
     "execution_count": 25,
     "metadata": {},
     "output_type": "execute_result"
    }
   ],
   "source": [
    "df.head()"
   ]
  },
  {
   "cell_type": "code",
   "execution_count": 26,
   "metadata": {},
   "outputs": [],
   "source": [
    "responses = df.text.values\n",
    "summaries = df.response_summary"
   ]
  },
  {
   "cell_type": "markdown",
   "metadata": {},
   "source": [
    "### Sneak peek:\n",
    "---\n",
    "Overall results do not look so good.\n",
    "Anyway we will save them and we will try a different model\n",
    "\n",
    "---"
   ]
  },
  {
   "cell_type": "code",
   "execution_count": 28,
   "metadata": {},
   "outputs": [
    {
     "name": "stdout",
     "output_type": "stream",
     "text": [
      "Input text: if this is running correctly? And we get buy in from the populist I would say in the long run we will see benefit you know a decade two decades down the road for sure.I feel that it takes a generation. That's the time it takes for chronic diseases. You have to actually set in and you know perhaps develop complications.I think for complications 10 to 15 years you should already see microvascular complications. Maybe about 5 to 10 years. Micro maybe about 10 15 then. But 20 years if you can set it attitude changes as well as the whole concept of regular screening regular prevention I think you see outcomes much earlier especially when community cares involved when you have all your fitness your dietetics all this coming in together. You should see much earlier Results. I don't think we're looking at 20 years investment here. I think the ministry look at a much earlier ri on the returns actuallyWe should be seeing some of that. But I think [PII] has probably mentioned some of that. The point essentially that for certain things if you can catch the condition a little bit earlier you can already make a difference to the outcome. And many people don't proceed to do necessary screening end up with the condition fairly late. Where the cost of rescue is much much higher. So while it's correct that one should be cautious about over promising It is this is a journey that I think we really really need to take. Because if we don't we are staring down the gun of extremely high cost extremely high demand and manpower all of which we can't afford as a nation in the very long term. So it has to be the situation where not only the health care professionals you know but the [PII] population comes alongside and works on this grand challenge together to try to achieve that particular endpoint at the very start. I spoke about this being right from the beginning of life and I didn't allude to the fact that we had to start with the ones that are greater risk. So when the minister talked essentially about people signing on to this family physician they started with the older age group first. But in essence we hope that by signing on mom and dad or grandpa and grandma that over time even the kids will end up seeing this particular family doctor family doctor group. And we hope to start that practice earlier on in life get all the pickups done do all the preventive measures including the necessary vaccinations done early on. So I think [PII] it's a journey and yes we have to climb that slope because we've spent a lot of time developing the rescue care. Now we really need to work essentially on prevention and promotion of health in a very serious and very concerted way.\n",
      "Summary text: \u001b[1mMinister says 20 years in the long run we will see benefit you know a decade two decades down the road for sure . I think for complications 10 to 15 years you should already see microvascular complications. But 20 years if you can set it attitude changes as well as the whole concept of regular screening regular prevention I think you see\u001b[0m\n",
      "\n",
      "---\n",
      "Input text: start first. What I used to hear a lot of is that when the individual case that they look after has one chronic condition let's say have attention. Right? It's not too difficult. Once the person acquires diabetes and high cholesterol then the medications become more complex. It becomes a lot more challenging for them to hold the case. That's what they mean by the case getting more complex. And the issue is how do we then make it easier for them to manage cases who have more than one chronic condition.Part of the healthy SDI program is that we are to prescribe a stipulated set of treatments and diagnostics on a certain profile patient. As long as we can demonstrate that we have done our due diligence then we will get amply compensated in that sense. So that removes a bit of the burden and the risk of the patient just being completely noncompliant despite our best efforts. Then the other part about it is that on very large scale kind of concept. The evidence from other countries have shown that on a white population basis. If you apply all these methodology of care most patients will have biometric improvements there. HB one c withdraw their blood pressure readings will be better from that basis. Right? If I manage a pool of say 5000 patients I can maybe have 100 200 ERIN people. And overall I should see the same outcomes as demonstrated in large scale studies from other countries. Okay let me playa little bit of Devil's advocate here. While it sounds workable on paper on the ground this is actually what my feelings are. If we actually base remuneration based on outcome or disease outcome or improvement in health what will end up happening over a period of time? If you ask me is that they may potentially be a bias towards keeping the healthier patients and shunting away the more difficult cases which then creates a negative cycle and defeats the whole purpose of healthier S. G. Hence I am a little reserved when I say that remuneration or compensation should be based upon results or outcomes. Now as for whether running the appropriate laps the diagnostics are sufficient. Again I will challenge you that there will be different areas in [PII] with different socio economic levels of information knowledge which may make it more difficult for certain segments of population to come regularly for their checks not because they are intentionally defaulting therapy but because their home and their community circumstances do not allow them to come at that very kind of frequency. Now let's say I was A G. P. In one of the older estates in [PII]. I believe that my outcomes is measured in this kind of international yardsticks will differ very much from say corporate clinic or young G. P. Clinic in say perhaps a little bit more young estates etcetera. So I would say that we need to be really careful you know and ministry probably needs to be a bit aware that there will be some differences out there when we have to set in place a fixed target for enumerationIt's not just the fact about the G. P. Is going to be the one doing all the screenings because this is where we need to form the whole PCM concept of shared resources and having teams of nurses of healthcare phlebotomist who can actually make trips down patients houses to perform such checks as well. Our company's experience that we have done chronic disease management programs where we deploy our staff nurses of the botanists to perform both the digital. I check as well as blood drawing for patients in the comfort of their own homes and that still allows patients to then follow up on the necessary checks.I would say that because again really depends on which views are we taking you know Are we looking at it from a national perspective? Do we have cost savings from a national perspective if we do it you know and we organize our care in this manner.\n",
      "Summary text: \u001b[1m A G. P. Clinic in one of the older estates in [PII] may potentially be a bias towards keeping the healthier patients and shunting away the more difficult cases . The evidence from other countries have shown that on a white population basis. If you apply all these methodology of care most patients will have biometric improvements there\u001b[0m\n",
      "\n",
      "---\n",
      "Input text: I think healthier S. G. Is a whole rethinking of how we look at health care as a nation and to focus on the fundamentals of healthcare mainly in the fact of preventive care and to actually focus resources where they can make the biggest difference which is preventing or reducing healthcare burden when it comes to the major chronic disease groups very much focused on your cardiovascular diseases as well as maintaining a very good state of health. That to me is the main focus of healthcare. Msg prevention and reducing any already present chronic disease burden.Absolutely. I think [PII] has got the summary there for me I'll just add on one point. I think it's really a case of how to reshape not just what the health system thinks or what the doctors think but it's really how the nation actually thinks about their illnesses because I actually have a successful healthier as Japan. Not only must you have buy in from the physicians and the allied health stuff but you also must have it from the populist and that's really the crux of the issue because for many many years and decades I think what has happened is that we've always gone through but we think it's normal you see the doctor when you're unwell see the doctor go to the hospital see the specially see the G. P. You know based on what you feel about it. Well healthier S. G. Puts the emphasis back onto the page and it's sort of like going back to school you know going back to primary school and saying hey look we've got to look at this from a completely different perspective. I've got to look after myself you know I've got to look after my family my loved ones my relatives and get them to see the doctor and get a family physician in charge of their health so that they can guide them to teach them how to actually look at themselves prior to even any of these illnesses setting in. So I would go even one step further to say that not only when they have already had a chronic illnesses although they do not have the end stage problems but even before they developed the chronic illnesses that will be what really healthier s. G.\n",
      "Summary text: \u001b[1m S. G. Puts the emphasis back onto the page and it's sort of like going back to school and saying hey look we've got to look at this from a completely different perspective . I think it's really a case of how to reshape not just what the health system thinks or what the doctors think. It's really how the\u001b[0m\n",
      "\n",
      "---\n",
      "Input text: for me I think information to unify all the information in the health care system such that all records are transferable. One of the things that I've seen during the covid situation when we launch H. R. P. The home recovery program to have a national program on telemedicine that make a huge impact. I think some of the M. [PII]. H. Colleagues wrote a paper about it where our telemedicine system the government once saw about 203 100000 patients and we had an amazing outcome in mortality and mobility through our safety blanket shows the importance of a unified health care system a unified record system in being able to be a very good safety blanket for our entire health care system. I feel that systems is the most important part of this.I will say vaccinations. You know the accessibility to vaccinations. I think we've got lots of good vaccines out there and unfortunately a huge proportion of the population who actually should get it whole shot of getting it you know. So I think right now ministry also pushing some of our elderly and higher risk patients as an example for the pneumococcal vaccine. And I think it's short of 10% of the population who requires or should go on it are not even getting it because of ignorance and inaccessibility. So if I could change it there could be equal and good access to vaccines. How like how the Covid vaccines will roll out. That will be what I want to change immediately. Yousomehow.Well I wish we had done all of this five or six years ago. If you ask me I know we've had challenges because we've had to deal with Covid and everything else. And we've had other things to do to try to build the ecosystem. But if we had done much of this about five or six years ago I think we'd be in a happier place. We might have less challenges with regard to trying to find staff. But I recognize that life is a journey and this whole thing is a journey as well. I wish we had done this earlier.\n",
      "Summary text: \u001b[1m The home recovery program to have a national program on telemedicine that make a huge impact. I feel that systems is the most important part of this. You know the accessibility to vaccinations. I think we've got lots of good vaccines out there and unfortunately a huge proportion of the population who actually should get it whole shot\u001b[0m\n",
      "\n",
      "---\n",
      "Input text: over time. We will see a general increase in cost for the whole system. But if you ask me and I've actually looked at the system costs it costs a heck of a lot more for an individual to get his hypertension treated in a government hospital then it cost for them to go and see a doctor in primary care all things being equal if they could get access to the same drug and the same decisions were made and the degree of control. I do know that there are certain G. P. Groups that have done an extremely good job. Even earlier on when we were actually working on war on diabetes in managing diabetes with outcomes comparable if not as good as what you would get in a good hospital clinic. So I have actually a lot of faith that is possible for us to move in that direction. If we give them the tools and we can actually make our population see the value in doing this. Justthere's always a worry there's always a risk. We change that. There will be some adjustments to direction sometimes because a particular direction taken didn't quite work. It is a journey that we have to take and it's a journey that we have to take together with the population. That's my field.I completely agree that I I don't believe that there will be a waste to this because even if it's short term or it runs for a few years and then the direction turns a little bit. I think the key message and the key information that goes up there would be primary prevention is important. Health screenings are important. Health care must be seen as something that comes into play even before you are sick. Informing the relationship as you mentioned earlier on is really really importantto echo my colleagues. I think fundamentally when you talk about the whole scientific basis of medical care is always evidential that prevention is always going to be more cost effective than anything else. So regardless of any policy direction change it will still have to be other point on the scientific principle. I feel that this current direction we are on right will definitely come to fruition in some way or another in time to come.\n",
      "Summary text: \u001b[1m Health care must be seen as something that comes into play even before you are sick. Health screenings are important. Health screening is important. Informing the relationship as you mentioned earlier on is really important to echo my colleagues. I think fundamentally when you talk about the whole scientific basis of medical care is always evidential that prevention is always\u001b[0m\n",
      "\n",
      "---\n",
      "Input text: I don't think we're only doing it now. I think we've been actually gradually building up to it. We have first to build an ecosystem very early on. We didn't have the community health assistance scheme we didn't have a system where the GP clinics were linked up to each other and then linked up to the health care system. We had to build that trust. We had to build a common language we have to build an overall game plan and roll. We also have to find a way to organize it because there are so many GP clinics scattered around [PII]. They were not really so connected overall to the health systems. The three clusters per se and the clustering had to occur first. But of course we're talking essentially about the health providers right now we've been gradually building to this point. I think it's a very important step that we now need to make in [PII] to actually shift the emphasis where community care becomes not only the first port of call but the principal port of callecho on the general principle of having a family doctor to have one single point of care has always been the kind of theory of which we practice. But in order to develop a system it is very important to have all the building blocks in place and the most important bit of it is actually the way that we document data the way that we document treatment as well as lab tests and all these kind of results into a unified system where everyone talk the same language for the continuity of care and only then are we able to truly build something that patients can rely on for the entire care journey from end to end and as well as all the entire funding mechanism. The whole trust that was actually developed over the past few years is also very pivotal to be able to start having the entire ecosystem to be able to finally be in a position to announce this to the general public. That we are ready to embark on this pivotal change in the health care system.That's one of the big changes in health care S. G. That is coming this next year when all clinic management systems all have to conform to a singular standard of documentation as well as information flow back so that this is what I viewed to be one of the cornerstones of this entire healthy S. G. As well?Absolutely. I think that's always one aspect of care that we are always very mindful about where there's fragmentation of care where you have pieces of information lying all over the place. Because one of the things about easy and accessible health care is that patients are able to doctor [PII] fairly easily and hence therefore will have records lying over various clinics or hospital settings. Hence pulling all this information together is a linkage that will help pull the health care system together. The system is still in its infancy but over the next few years I'm pretty certain that if this is the direction that the country will like to head in I'm sure it will be done. Common central club system where our medical information can be sought would be the way togo [PII] you could just add to what essentially said we've had many opportunities. And I'm actually glad [PII] is here because [PII] was something that we started discussing earlier on before we had covid if not for the fact that we do have a backbone called the national electronic health record. This conversation that we're having won't actually happen. The national electronic health record of any HR is supposed to be the record that follows the individual and all the health care clinic management systems or the electronic medical records are supposed to communicate the course set there before today's discussion. I was actually seeing a clinic and it was quite interesting because I was looking at records from patients who were seen in the polyclinic at the other end of [PII] as well. And it was quite straightforward because I could actually see the records the key summaries of what was going on. And increasingly the number of my family physician colleagues are also coming from what we are now in a position where we can try to build on top of it. But of course you are right to call up the fact that it's still the journey we've embarked on it and we do have to keep our noses to the grindstone to make sure that it actually comes to be\n",
      "Summary text: \u001b[1m S. G. G.'s health care system is still in its infancy but over the next few years I'm sure it will be done. I think it's a very important step that we now need to make in [PII] to shift the emphasis where community care becomes not only the first port of call but the principal port\u001b[0m\n",
      "\n",
      "---\n",
      "Input text: be honest and say that it is going to be certainly challenging for us on the ground where we actually have to face a potentially patients coming in from the politics system who were previously seeing politics because of the subsidized care that was available to them only in the politics healthy S. G. Is supposed to level the playing field in some way. Yeah. To allow some right citing where some of our community patients will be able to choose a family physician and stick to the family physician and hence therefore shift their care out of the politics system or perhaps even the outpatient specialist care if their conditions allow them to do so. One of the challenges for perhaps maybe the mom and pop Gps who have been operating in a style you know over the last 234 decades will find challenging finding the skilled manpower to help them out in the administrative Taskings. And indeed that is one of my concerns You know when I look forward to the healthier the scheme I certainly feel that it is beneficial for the patients but we can only benefit the patients if we have the requisite human resource as well as the ability to pull off all these changes that are going to be coming alongThe healthy concept of one family doctor one family when we actually do in practice is one family clinic not a doctor per se. Because it is a fact that the private market a lot of clinics are meant by low comes there's a lot of movement around clinics of the doctors themselves. That's why it falls back to the system itself. System is very important. The ability to have the case notes being saved being documented very clearly allows for transference of care within a clinic group between clinic groups as well. So that's how you are able to maintain that continuity of care. And I think the government's going further than that in to maintain the standard of care. It is a fact that in the clinical practice in the private setting GPS might treat things differently. The same condition. The same kind of parameters. You might have a different kind of operating or treatment style. But the government's coming very detailed guidelines on exactly how do you tackle chronic disease in each stage and with the standardization of care patient can rest assureIt is impossible to have the same doctor. See the same patient all the time. Doctors need to go and leave. We need to get married and have kids and stuff. And like soI think [PII] he's absolutely right. [PII] was my patient for example certainly we want to see me. However you see being his family physician would allow me to then educate him because I have got a long long runway you know I've seen for five years he's probably trusting me now. Right. I don't have to worry that he is still second guessing my own opinion because I believe that he will have already decided that culture is a pretty decent GPU No. What if he says something I'm going to just take that as probably the truth. You know unless I'm really really skeptical about that diagnosis at that point that he's put across now. So this is exactly what [PII] is trying to say. So at this point I would say hey look [PII]. You know if you've got major problems you've got anything that's deferring or if you've got anything that you have a question about come to me. However if it's routine stuff you need a vaccination which I've already told you about. If you just need to refill a prescription or if you just need to have something check up that's a minor thing and you know it's minor because I've told you about it. Or then perhaps you might be willing to see someone within my clinic group itself you know be that a local or a standing doctor all my other doctors who are running my group because I trust them as well and hence that's why they're in my group healthier as as I said it goes beyond just myself but also to the community. Yeah so it goes both ways.your podcasts.It will be a potential problem if the plans are not thought up properly because I think what will probably happen is that the polyclinic list or what we call the standard drug list will not have all the drugs within the drug list itself. So I feel that there might be a little bit of confusion if certain drugs don't fall in the parameters of a standard drug list that would be number one number two as you have alluded to. Many doctors actually do have a profit margin built into the drugs that they sell as part of the running costs of keeping the clinic afloat. So that is a genuine issue that we will actually have to look into. Ultimately cost will have to be covered. So in some way it will have to be recovered in the form of either increasing consultation fees or perhaps maybe the ministry will come in to assist in the forms of subsidies etcetera. But I believe that this has to be discussed before it is rolled out.I think that the current business model that my colleagues in G. P. Land essentially have is essentially sort of piece rate. They see individual cases and the charges then flow based on that episode. If I were to put it in another perspective it's almost like you know gig work that one does. It's actually a singular sort of episode that you work on. There are different ways to monetize that you could pay for outcomes over a year if the individual that is registered to you does well or you've done the required sort of management steps that are required. So there are different models that we can explore. But what my two colleagues have said is actually important overall they must get a fair remuneration for the effort in time. If I want to back check a little bit about your interesting question essentially about you just want to see [PII] and you want to see [PII] and no one else. I've always thought that personally in the longer term. When we talk about community care you actually have to wrap services around the G. P. So that they can optimize care for the increasing number of cases that they have to care for or they have to advise. It starts with the trusted family physician but the family physician can work in the team and just like we do in the poly clinics and even in the hospitals I think over time that will happen. But this is the first step because you want a trusted face and therefore it becomes important for the establishment of a relationship with either a particular clinic or a particular doctor. That becomes key. The movement from piece rate to a different way of monetizing care is workable. But we must be fair here in the way we look at how our G. P. Colleagues then come out financially for the effort that they put in to help us create a healthy society.\n",
      "Summary text: \u001b[1m S. G. P. Land Land is essentially the current business model that my colleagues in Land Land have essentially rolled out . The government's coming very detailed guidelines on exactly how do you tackle chronic disease in each stage and with the standardization of care patient can rest assure it is impossible to have the same doctor all the time\u001b[0m\n",
      "\n",
      "---\n",
      "Input text: [PII] I would actually just extend a little bit from what my two colleagues essentially have said. It's just that point that we've always talked about health care and we've concentrated a lot on rescue care. But if you look at [PII] as a whole what really is important to everyone is something that we value most when we lose it and that is the ability to do the things that we like to do the things that we love to do go running eat the food we like you know take a holiday spend time with people we love. And when we talk about that the perspective I wanted to lay on the table is this Singapore has one of the longest lived populations in the world. Our longevity is really wonderful. Mid 80s for female early 80s for men in general. But if you look at the healthy longevity is actually shorter and what we really want to do is make sure that people can do the things that they want for as long as possible and for that you can't wait until something happens You must try to reduce the chance of that happening. So shifting from health care to health as much as possible would be key in this whole journey. So I'm actually very pleased [PII]. Has taken this major step to try to emphasis health rather than continue to just move on healthcare alone. SoThis is actually an expansion of one of the beyond from health care to health. If you remember what was actually mentioned earlier on it's actually building on top of and putting a lot more meat on what that means It's really shifting resources is actually shifting the emphasis is really trying to get every single member of the public involved in this whole endeavor to try to create a much more healthy society as a whole right from very early on in life ideally But certainly starting with where I think the ministry is most concerned that we're going to have the greatest challenge those that are older. So\n",
      "Summary text: \u001b[1m Singapore has one of the longest lived populations in the world, says PII . The ministry is most concerned that we're going to have the greatest challenge those that are older. So shifting from health care to health as much as possible would be key in this whole journey.\u001b[0m\n",
      "\n",
      "---\n"
     ]
    }
   ],
   "source": [
    "# print:\n",
    "newline, bold, unbold = \"\\n\", \"\\033[1m\", \"\\033[0m\"\n",
    "for response_i, summary_i in zip(responses,summaries):\n",
    "    print(f\"Input text: {response_i}{newline}\" f\"Summary text: {bold}{summary_i}{unbold}{newline}\")\n",
    "    print('---')"
   ]
  },
  {
   "cell_type": "markdown",
   "metadata": {},
   "source": [
    "### Step 6: Save Results:"
   ]
  },
  {
   "cell_type": "code",
   "execution_count": 43,
   "metadata": {},
   "outputs": [],
   "source": [
    "df.to_csv('summarisation_with_model_distilbart_cnn_6_6.csv')"
   ]
  },
  {
   "cell_type": "markdown",
   "metadata": {},
   "source": [
    "### Step 7: Clean up the endpoint"
   ]
  },
  {
   "cell_type": "code",
   "execution_count": 37,
   "metadata": {},
   "outputs": [],
   "source": [
    "# Delete the SageMaker endpoint\n",
    "model_predictor.delete_model()\n",
    "model_predictor.delete_endpoint()"
   ]
  },
  {
   "cell_type": "markdown",
   "metadata": {},
   "source": [
    "---"
   ]
  },
  {
   "cell_type": "markdown",
   "metadata": {},
   "source": [
    "## Lets Try different model:\n",
    "---"
   ]
  },
  {
   "cell_type": "code",
   "execution_count": 47,
   "metadata": {},
   "outputs": [
    {
     "data": {
      "application/vnd.jupyter.widget-view+json": {
       "model_id": "98d8b5dbf3704b03802bdc8994379aa1",
       "version_major": 2,
       "version_minor": 0
      },
      "text/plain": [
       "Dropdown(description='Select a model', index=4, layout=Layout(width='max-content'), options=('huggingface-summ…"
      ]
     },
     "metadata": {},
     "output_type": "display_data"
    }
   ],
   "source": [
    "display(model_dropdown)"
   ]
  },
  {
   "cell_type": "code",
   "execution_count": 48,
   "metadata": {},
   "outputs": [],
   "source": [
    "model_id, model_version = model_dropdown.value, \"*\""
   ]
  },
  {
   "cell_type": "code",
   "execution_count": 49,
   "metadata": {},
   "outputs": [],
   "source": [
    "# Retrieve the inference docker container uri. This is the base HuggingFace container image for the default model above.\n",
    "deploy_image_uri = image_uris.retrieve(\n",
    "    region=None,\n",
    "    framework=None,  # automatically inferred from model_id\n",
    "    image_scope=\"inference\",\n",
    "    model_id=model_id,\n",
    "    model_version=model_version,\n",
    "    instance_type=inference_instance_type,\n",
    ")\n",
    "\n",
    "# Retrieve the inference script uri. This includes all dependencies and scripts for model loading, inference handling etc.\n",
    "deploy_source_uri = script_uris.retrieve(\n",
    "    model_id=model_id, model_version=model_version, script_scope=\"inference\"\n",
    ")\n",
    "\n",
    "\n",
    "# Retrieve the model uri. This includes the pre-trained model and parameters.\n",
    "model_uri = model_uris.retrieve(\n",
    "    model_id=model_id, model_version=model_version, model_scope=\"inference\"\n",
    ")"
   ]
  },
  {
   "cell_type": "code",
   "execution_count": 50,
   "metadata": {},
   "outputs": [
    {
     "data": {
      "text/plain": [
       "'s3://jumpstart-cache-prod-us-east-1/huggingface-infer/infer-huggingface-summarization-distilbart-cnn-12-6.tar.gz'"
      ]
     },
     "execution_count": 50,
     "metadata": {},
     "output_type": "execute_result"
    }
   ],
   "source": [
    "model_uri"
   ]
  },
  {
   "cell_type": "code",
   "execution_count": 51,
   "metadata": {},
   "outputs": [
    {
     "name": "stdout",
     "output_type": "stream",
     "text": [
      "-----!"
     ]
    }
   ],
   "source": [
    "# Create the SageMaker model instance\n",
    "model = Model(\n",
    "    image_uri=deploy_image_uri,\n",
    "    source_dir=deploy_source_uri,\n",
    "    model_data=model_uri,\n",
    "    entry_point=\"inference.py\",  # entry point file in source_dir and present in deploy_source_uri\n",
    "    role=aws_role,\n",
    "    predictor_cls=Predictor,\n",
    "    name=endpoint_name,\n",
    ")\n",
    "\n",
    "# deploy the Model. Note that we need to pass Predictor class when we deploy model through Model class,\n",
    "# for being able to run inference through the sagemaker API.\n",
    "model_predictor = model.deploy(\n",
    "    initial_instance_count=1,\n",
    "    instance_type=inference_instance_type,\n",
    "    predictor_cls=Predictor,\n",
    "    endpoint_name=endpoint_name,\n",
    ")"
   ]
  },
  {
   "cell_type": "code",
   "execution_count": 52,
   "metadata": {},
   "outputs": [],
   "source": [
    "BUCKET='cnatest' # Or whatever you called your bucket\n",
    "data_key = 'transcript_with_mapped_questions_and_answers.csv' # Where the file is within your bucket\n",
    "data_location = 's3://{}/{}'.format(BUCKET, data_key)\n",
    "df = pd.read_csv(data_location)"
   ]
  },
  {
   "cell_type": "code",
   "execution_count": 53,
   "metadata": {},
   "outputs": [],
   "source": [
    "df['response_summary']=df['text'].apply(lambda x:summarise_response(x))"
   ]
  },
  {
   "cell_type": "code",
   "execution_count": 54,
   "metadata": {},
   "outputs": [
    {
     "name": "stdout",
     "output_type": "stream",
     "text": [
      "Input text: if this is running correctly? And we get buy in from the populist I would say in the long run we will see benefit you know a decade two decades down the road for sure.I feel that it takes a generation. That's the time it takes for chronic diseases. You have to actually set in and you know perhaps develop complications.I think for complications 10 to 15 years you should already see microvascular complications. Maybe about 5 to 10 years. Micro maybe about 10 15 then. But 20 years if you can set it attitude changes as well as the whole concept of regular screening regular prevention I think you see outcomes much earlier especially when community cares involved when you have all your fitness your dietetics all this coming in together. You should see much earlier Results. I don't think we're looking at 20 years investment here. I think the ministry look at a much earlier ri on the returns actuallyWe should be seeing some of that. But I think [PII] has probably mentioned some of that. The point essentially that for certain things if you can catch the condition a little bit earlier you can already make a difference to the outcome. And many people don't proceed to do necessary screening end up with the condition fairly late. Where the cost of rescue is much much higher. So while it's correct that one should be cautious about over promising It is this is a journey that I think we really really need to take. Because if we don't we are staring down the gun of extremely high cost extremely high demand and manpower all of which we can't afford as a nation in the very long term. So it has to be the situation where not only the health care professionals you know but the [PII] population comes alongside and works on this grand challenge together to try to achieve that particular endpoint at the very start. I spoke about this being right from the beginning of life and I didn't allude to the fact that we had to start with the ones that are greater risk. So when the minister talked essentially about people signing on to this family physician they started with the older age group first. But in essence we hope that by signing on mom and dad or grandpa and grandma that over time even the kids will end up seeing this particular family doctor family doctor group. And we hope to start that practice earlier on in life get all the pickups done do all the preventive measures including the necessary vaccinations done early on. So I think [PII] it's a journey and yes we have to climb that slope because we've spent a lot of time developing the rescue care. Now we really need to work essentially on prevention and promotion of health in a very serious and very concerted way.\n",
      "Summary text: \u001b[1m I would say in the long run we will see benefit you know a decade two decades down the road for sure . I don't think we're looking at 20 years investment here. I think the ministry look at a much earlier ri on the returns actuallyWe should be seeing some of that. And we hope to start that practice earlier on in life get all the pickups done do all the preventive measures including the necessary vaccinations done early on .\u001b[0m\n",
      "\n",
      "---\n",
      "Input text: start first. What I used to hear a lot of is that when the individual case that they look after has one chronic condition let's say have attention. Right? It's not too difficult. Once the person acquires diabetes and high cholesterol then the medications become more complex. It becomes a lot more challenging for them to hold the case. That's what they mean by the case getting more complex. And the issue is how do we then make it easier for them to manage cases who have more than one chronic condition.Part of the healthy SDI program is that we are to prescribe a stipulated set of treatments and diagnostics on a certain profile patient. As long as we can demonstrate that we have done our due diligence then we will get amply compensated in that sense. So that removes a bit of the burden and the risk of the patient just being completely noncompliant despite our best efforts. Then the other part about it is that on very large scale kind of concept. The evidence from other countries have shown that on a white population basis. If you apply all these methodology of care most patients will have biometric improvements there. HB one c withdraw their blood pressure readings will be better from that basis. Right? If I manage a pool of say 5000 patients I can maybe have 100 200 ERIN people. And overall I should see the same outcomes as demonstrated in large scale studies from other countries. Okay let me playa little bit of Devil's advocate here. While it sounds workable on paper on the ground this is actually what my feelings are. If we actually base remuneration based on outcome or disease outcome or improvement in health what will end up happening over a period of time? If you ask me is that they may potentially be a bias towards keeping the healthier patients and shunting away the more difficult cases which then creates a negative cycle and defeats the whole purpose of healthier S. G. Hence I am a little reserved when I say that remuneration or compensation should be based upon results or outcomes. Now as for whether running the appropriate laps the diagnostics are sufficient. Again I will challenge you that there will be different areas in [PII] with different socio economic levels of information knowledge which may make it more difficult for certain segments of population to come regularly for their checks not because they are intentionally defaulting therapy but because their home and their community circumstances do not allow them to come at that very kind of frequency. Now let's say I was A G. P. In one of the older estates in [PII]. I believe that my outcomes is measured in this kind of international yardsticks will differ very much from say corporate clinic or young G. P. Clinic in say perhaps a little bit more young estates etcetera. So I would say that we need to be really careful you know and ministry probably needs to be a bit aware that there will be some differences out there when we have to set in place a fixed target for enumerationIt's not just the fact about the G. P. Is going to be the one doing all the screenings because this is where we need to form the whole PCM concept of shared resources and having teams of nurses of healthcare phlebotomist who can actually make trips down patients houses to perform such checks as well. Our company's experience that we have done chronic disease management programs where we deploy our staff nurses of the botanists to perform both the digital. I check as well as blood drawing for patients in the comfort of their own homes and that still allows patients to then follow up on the necessary checks.I would say that because again really depends on which views are we taking you know Are we looking at it from a national perspective? Do we have cost savings from a national perspective if we do it you know and we organize our care in this manner.\n",
      "Summary text: \u001b[1m If we actually base remuneration based on outcome or disease outcome what will end up happening over a period of time? If you ask me is that they may potentially be a bias towards keeping the healthier patients and shunting away the more difficult cases which then creates a negative cycle and defeats the whole purpose of healthier S. G. P. Clinic .\u001b[0m\n",
      "\n",
      "---\n",
      "Input text: I think healthier S. G. Is a whole rethinking of how we look at health care as a nation and to focus on the fundamentals of healthcare mainly in the fact of preventive care and to actually focus resources where they can make the biggest difference which is preventing or reducing healthcare burden when it comes to the major chronic disease groups very much focused on your cardiovascular diseases as well as maintaining a very good state of health. That to me is the main focus of healthcare. Msg prevention and reducing any already present chronic disease burden.Absolutely. I think [PII] has got the summary there for me I'll just add on one point. I think it's really a case of how to reshape not just what the health system thinks or what the doctors think but it's really how the nation actually thinks about their illnesses because I actually have a successful healthier as Japan. Not only must you have buy in from the physicians and the allied health stuff but you also must have it from the populist and that's really the crux of the issue because for many many years and decades I think what has happened is that we've always gone through but we think it's normal you see the doctor when you're unwell see the doctor go to the hospital see the specially see the G. P. You know based on what you feel about it. Well healthier S. G. Puts the emphasis back onto the page and it's sort of like going back to school you know going back to primary school and saying hey look we've got to look at this from a completely different perspective. I've got to look after myself you know I've got to look after my family my loved ones my relatives and get them to see the doctor and get a family physician in charge of their health so that they can guide them to teach them how to actually look at themselves prior to even any of these illnesses setting in. So I would go even one step further to say that not only when they have already had a chronic illnesses although they do not have the end stage problems but even before they developed the chronic illnesses that will be what really healthier s. G.\n",
      "Summary text: \u001b[1m I think healthier S. G. Is a whole rethinking of how we look at health care as a nation and to focus on the fundamentals of healthcare mainly in the fact of preventive care . That to me is the main focus of healthcare . Not only must you have buy in from the physicians but you also must have it from the populist .\u001b[0m\n",
      "\n",
      "---\n",
      "Input text: for me I think information to unify all the information in the health care system such that all records are transferable. One of the things that I've seen during the covid situation when we launch H. R. P. The home recovery program to have a national program on telemedicine that make a huge impact. I think some of the M. [PII]. H. Colleagues wrote a paper about it where our telemedicine system the government once saw about 203 100000 patients and we had an amazing outcome in mortality and mobility through our safety blanket shows the importance of a unified health care system a unified record system in being able to be a very good safety blanket for our entire health care system. I feel that systems is the most important part of this.I will say vaccinations. You know the accessibility to vaccinations. I think we've got lots of good vaccines out there and unfortunately a huge proportion of the population who actually should get it whole shot of getting it you know. So I think right now ministry also pushing some of our elderly and higher risk patients as an example for the pneumococcal vaccine. And I think it's short of 10% of the population who requires or should go on it are not even getting it because of ignorance and inaccessibility. So if I could change it there could be equal and good access to vaccines. How like how the Covid vaccines will roll out. That will be what I want to change immediately. Yousomehow.Well I wish we had done all of this five or six years ago. If you ask me I know we've had challenges because we've had to deal with Covid and everything else. And we've had other things to do to try to build the ecosystem. But if we had done much of this about five or six years ago I think we'd be in a happier place. We might have less challenges with regard to trying to find staff. But I recognize that life is a journey and this whole thing is a journey as well. I wish we had done this earlier.\n",
      "Summary text: \u001b[1m I wish we had done all of this five or six years ago. We might have less challenges with regard to trying to find staff. But I recognize that life is a journey and this whole thing is a . journey as well. But if we had . done much of this about five . or six . years ago I think we'd be in a happier place .\u001b[0m\n",
      "\n",
      "---\n",
      "Input text: over time. We will see a general increase in cost for the whole system. But if you ask me and I've actually looked at the system costs it costs a heck of a lot more for an individual to get his hypertension treated in a government hospital then it cost for them to go and see a doctor in primary care all things being equal if they could get access to the same drug and the same decisions were made and the degree of control. I do know that there are certain G. P. Groups that have done an extremely good job. Even earlier on when we were actually working on war on diabetes in managing diabetes with outcomes comparable if not as good as what you would get in a good hospital clinic. So I have actually a lot of faith that is possible for us to move in that direction. If we give them the tools and we can actually make our population see the value in doing this. Justthere's always a worry there's always a risk. We change that. There will be some adjustments to direction sometimes because a particular direction taken didn't quite work. It is a journey that we have to take and it's a journey that we have to take together with the population. That's my field.I completely agree that I I don't believe that there will be a waste to this because even if it's short term or it runs for a few years and then the direction turns a little bit. I think the key message and the key information that goes up there would be primary prevention is important. Health screenings are important. Health care must be seen as something that comes into play even before you are sick. Informing the relationship as you mentioned earlier on is really really importantto echo my colleagues. I think fundamentally when you talk about the whole scientific basis of medical care is always evidential that prevention is always going to be more cost effective than anything else. So regardless of any policy direction change it will still have to be other point on the scientific principle. I feel that this current direction we are on right will definitely come to fruition in some way or another in time to come.\n",
      "Summary text: \u001b[1m Health care must be seen as something that comes into play even before you are sick . I think fundamentally when you talk about the whole scientific basis of medical care is always evidential that prevention is always going to be more cost effective than anything else . There will be some adjustments to direction sometimes because a particular direction taken didn't quite work .\u001b[0m\n",
      "\n",
      "---\n",
      "Input text: I don't think we're only doing it now. I think we've been actually gradually building up to it. We have first to build an ecosystem very early on. We didn't have the community health assistance scheme we didn't have a system where the GP clinics were linked up to each other and then linked up to the health care system. We had to build that trust. We had to build a common language we have to build an overall game plan and roll. We also have to find a way to organize it because there are so many GP clinics scattered around [PII]. They were not really so connected overall to the health systems. The three clusters per se and the clustering had to occur first. But of course we're talking essentially about the health providers right now we've been gradually building to this point. I think it's a very important step that we now need to make in [PII] to actually shift the emphasis where community care becomes not only the first port of call but the principal port of callecho on the general principle of having a family doctor to have one single point of care has always been the kind of theory of which we practice. But in order to develop a system it is very important to have all the building blocks in place and the most important bit of it is actually the way that we document data the way that we document treatment as well as lab tests and all these kind of results into a unified system where everyone talk the same language for the continuity of care and only then are we able to truly build something that patients can rely on for the entire care journey from end to end and as well as all the entire funding mechanism. The whole trust that was actually developed over the past few years is also very pivotal to be able to start having the entire ecosystem to be able to finally be in a position to announce this to the general public. That we are ready to embark on this pivotal change in the health care system.That's one of the big changes in health care S. G. That is coming this next year when all clinic management systems all have to conform to a singular standard of documentation as well as information flow back so that this is what I viewed to be one of the cornerstones of this entire healthy S. G. As well?Absolutely. I think that's always one aspect of care that we are always very mindful about where there's fragmentation of care where you have pieces of information lying all over the place. Because one of the things about easy and accessible health care is that patients are able to doctor [PII] fairly easily and hence therefore will have records lying over various clinics or hospital settings. Hence pulling all this information together is a linkage that will help pull the health care system together. The system is still in its infancy but over the next few years I'm pretty certain that if this is the direction that the country will like to head in I'm sure it will be done. Common central club system where our medical information can be sought would be the way togo [PII] you could just add to what essentially said we've had many opportunities. And I'm actually glad [PII] is here because [PII] was something that we started discussing earlier on before we had covid if not for the fact that we do have a backbone called the national electronic health record. This conversation that we're having won't actually happen. The national electronic health record of any HR is supposed to be the record that follows the individual and all the health care clinic management systems or the electronic medical records are supposed to communicate the course set there before today's discussion. I was actually seeing a clinic and it was quite interesting because I was looking at records from patients who were seen in the polyclinic at the other end of [PII] as well. And it was quite straightforward because I could actually see the records the key summaries of what was going on. And increasingly the number of my family physician colleagues are also coming from what we are now in a position where we can try to build on top of it. But of course you are right to call up the fact that it's still the journey we've embarked on it and we do have to keep our noses to the grindstone to make sure that it actually comes to be\n",
      "Summary text: \u001b[1m The system is still in its infancy but over the next few years I'm pretty certain that if this is the direction that the country will like to head in I'm sure it will be done. Common central club system where our medical information can be sought would be the way togo [PII]\u001b[0m\n",
      "\n",
      "---\n",
      "Input text: be honest and say that it is going to be certainly challenging for us on the ground where we actually have to face a potentially patients coming in from the politics system who were previously seeing politics because of the subsidized care that was available to them only in the politics healthy S. G. Is supposed to level the playing field in some way. Yeah. To allow some right citing where some of our community patients will be able to choose a family physician and stick to the family physician and hence therefore shift their care out of the politics system or perhaps even the outpatient specialist care if their conditions allow them to do so. One of the challenges for perhaps maybe the mom and pop Gps who have been operating in a style you know over the last 234 decades will find challenging finding the skilled manpower to help them out in the administrative Taskings. And indeed that is one of my concerns You know when I look forward to the healthier the scheme I certainly feel that it is beneficial for the patients but we can only benefit the patients if we have the requisite human resource as well as the ability to pull off all these changes that are going to be coming alongThe healthy concept of one family doctor one family when we actually do in practice is one family clinic not a doctor per se. Because it is a fact that the private market a lot of clinics are meant by low comes there's a lot of movement around clinics of the doctors themselves. That's why it falls back to the system itself. System is very important. The ability to have the case notes being saved being documented very clearly allows for transference of care within a clinic group between clinic groups as well. So that's how you are able to maintain that continuity of care. And I think the government's going further than that in to maintain the standard of care. It is a fact that in the clinical practice in the private setting GPS might treat things differently. The same condition. The same kind of parameters. You might have a different kind of operating or treatment style. But the government's coming very detailed guidelines on exactly how do you tackle chronic disease in each stage and with the standardization of care patient can rest assureIt is impossible to have the same doctor. See the same patient all the time. Doctors need to go and leave. We need to get married and have kids and stuff. And like soI think [PII] he's absolutely right. [PII] was my patient for example certainly we want to see me. However you see being his family physician would allow me to then educate him because I have got a long long runway you know I've seen for five years he's probably trusting me now. Right. I don't have to worry that he is still second guessing my own opinion because I believe that he will have already decided that culture is a pretty decent GPU No. What if he says something I'm going to just take that as probably the truth. You know unless I'm really really skeptical about that diagnosis at that point that he's put across now. So this is exactly what [PII] is trying to say. So at this point I would say hey look [PII]. You know if you've got major problems you've got anything that's deferring or if you've got anything that you have a question about come to me. However if it's routine stuff you need a vaccination which I've already told you about. If you just need to refill a prescription or if you just need to have something check up that's a minor thing and you know it's minor because I've told you about it. Or then perhaps you might be willing to see someone within my clinic group itself you know be that a local or a standing doctor all my other doctors who are running my group because I trust them as well and hence that's why they're in my group healthier as as I said it goes beyond just myself but also to the community. Yeah so it goes both ways.your podcasts.It will be a potential problem if the plans are not thought up properly because I think what will probably happen is that the polyclinic list or what we call the standard drug list will not have all the drugs within the drug list itself. So I feel that there might be a little bit of confusion if certain drugs don't fall in the parameters of a standard drug list that would be number one number two as you have alluded to. Many doctors actually do have a profit margin built into the drugs that they sell as part of the running costs of keeping the clinic afloat. So that is a genuine issue that we will actually have to look into. Ultimately cost will have to be covered. So in some way it will have to be recovered in the form of either increasing consultation fees or perhaps maybe the ministry will come in to assist in the forms of subsidies etcetera. But I believe that this has to be discussed before it is rolled out.I think that the current business model that my colleagues in G. P. Land essentially have is essentially sort of piece rate. They see individual cases and the charges then flow based on that episode. If I were to put it in another perspective it's almost like you know gig work that one does. It's actually a singular sort of episode that you work on. There are different ways to monetize that you could pay for outcomes over a year if the individual that is registered to you does well or you've done the required sort of management steps that are required. So there are different models that we can explore. But what my two colleagues have said is actually important overall they must get a fair remuneration for the effort in time. If I want to back check a little bit about your interesting question essentially about you just want to see [PII] and you want to see [PII] and no one else. I've always thought that personally in the longer term. When we talk about community care you actually have to wrap services around the G. P. So that they can optimize care for the increasing number of cases that they have to care for or they have to advise. It starts with the trusted family physician but the family physician can work in the team and just like we do in the poly clinics and even in the hospitals I think over time that will happen. But this is the first step because you want a trusted face and therefore it becomes important for the establishment of a relationship with either a particular clinic or a particular doctor. That becomes key. The movement from piece rate to a different way of monetizing care is workable. But we must be fair here in the way we look at how our G. P. Colleagues then come out financially for the effort that they put in to help us create a healthy society.\n",
      "Summary text: \u001b[1m GPs says it will be challenging for them to face patients coming in from the politics system who were previously seeing politics because of the subsidized care that was available to them only in the politics healthy S. G. Is supposed to level the playing field in some way . One of the challenges for perhaps maybe maybe maybe the mom and pop Gps who have been operating in a style you know over the last 234 decades will find challenging finding skilled manpower to help them out in the administrative Taskings .\u001b[0m\n",
      "\n",
      "---\n",
      "Input text: [PII] I would actually just extend a little bit from what my two colleagues essentially have said. It's just that point that we've always talked about health care and we've concentrated a lot on rescue care. But if you look at [PII] as a whole what really is important to everyone is something that we value most when we lose it and that is the ability to do the things that we like to do the things that we love to do go running eat the food we like you know take a holiday spend time with people we love. And when we talk about that the perspective I wanted to lay on the table is this Singapore has one of the longest lived populations in the world. Our longevity is really wonderful. Mid 80s for female early 80s for men in general. But if you look at the healthy longevity is actually shorter and what we really want to do is make sure that people can do the things that they want for as long as possible and for that you can't wait until something happens You must try to reduce the chance of that happening. So shifting from health care to health as much as possible would be key in this whole journey. So I'm actually very pleased [PII]. Has taken this major step to try to emphasis health rather than continue to just move on healthcare alone. SoThis is actually an expansion of one of the beyond from health care to health. If you remember what was actually mentioned earlier on it's actually building on top of and putting a lot more meat on what that means It's really shifting resources is actually shifting the emphasis is really trying to get every single member of the public involved in this whole endeavor to try to create a much more healthy society as a whole right from very early on in life ideally But certainly starting with where I think the ministry is most concerned that we're going to have the greatest challenge those that are older. So\n",
      "Summary text: \u001b[1m Singapore has one of the longest lived populations in the world . But if you look at the healthy longevity is actually shorter and what we really want to do is make sure that people can do the things that they want for as long as possible . So shifting from health care to health as much as possible would be key in this whole journey .\u001b[0m\n",
      "\n",
      "---\n"
     ]
    }
   ],
   "source": [
    "responses = df.text.values\n",
    "summaries = df.response_summary\n",
    "# print:\n",
    "newline, bold, unbold = \"\\n\", \"\\033[1m\", \"\\033[0m\"\n",
    "for response_i, summary_i in zip(responses,summaries):\n",
    "    print(f\"Input text: {response_i}{newline}\" f\"Summary text: {bold}{summary_i}{unbold}{newline}\")\n",
    "    print('---')"
   ]
  },
  {
   "cell_type": "code",
   "execution_count": 55,
   "metadata": {},
   "outputs": [],
   "source": [
    "df.to_csv('summarisation_with_model_distilbart_cnn_12_6.csv')"
   ]
  },
  {
   "cell_type": "markdown",
   "metadata": {},
   "source": [
    "### Clean up the endpoint"
   ]
  },
  {
   "cell_type": "code",
   "execution_count": 56,
   "metadata": {},
   "outputs": [],
   "source": [
    "# Delete the SageMaker endpoint\n",
    "model_predictor.delete_model()\n",
    "model_predictor.delete_endpoint()"
   ]
  },
  {
   "cell_type": "code",
   "execution_count": null,
   "metadata": {},
   "outputs": [],
   "source": []
  }
 ],
 "metadata": {
  "kernelspec": {
   "display_name": "Python 3",
   "language": "python",
   "name": "python3"
  },
  "language_info": {
   "codemirror_mode": {
    "name": "ipython",
    "version": 3
   },
   "file_extension": ".py",
   "mimetype": "text/x-python",
   "name": "python",
   "nbconvert_exporter": "python",
   "pygments_lexer": "ipython3",
   "version": "3.7.3"
  }
 },
 "nbformat": 4,
 "nbformat_minor": 5
}
