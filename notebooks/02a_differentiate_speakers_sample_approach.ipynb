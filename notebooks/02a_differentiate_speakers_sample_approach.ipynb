{
 "cells": [
  {
   "cell_type": "markdown",
   "metadata": {},
   "source": [
    "## Speaker classification pipeline\n",
    "---\n",
    "This Jupyter notebook contains a pipeline for classifying the speakers in an interview transcript into two categories: \"interviewer\" and \"interviewee\". The pipeline uses a reference list of interview questions and calculates matching scores between each row in the transcript and every question in the reference list. The scores are then aggregated at the average level for each speaker, and the speaker with the highest matching score with the questions in the transcript is defined as the \"interviewer\".\n",
    "\n",
    "### Pipeline steps\n",
    "\n",
    "The pipeline consists of the following steps:\n",
    "\n",
    "1. __Loading the data__: The interview transcript and reference list are loaded into the notebook.\n",
    "\n",
    "2. __Preprocessing__: The transcript is preprocessed to remove any unnecessary elements, such as timestamps or speaker tags. The reference list is also preprocessed to remove any duplicate questions or irrelevant information.\n",
    "\n",
    "3. __Calculating matching scores__: For each speaker*i*:  for each speaker *i*'s records in the transcript and each question in the reference list, a matching score is calculated using a text similarity metric. The matching score reflects the degree of similarity between the row and the question. Then for each question we select the maximum score.\n",
    "\n",
    "4. __Aggregating scores by speaker__: The matching scores are aggregated at the average level for each speaker across questions' scores, creating a summary table that shows the average score for each speaker.\n",
    "\n",
    "5. __Identifying the interviewer__: The speaker with the highest average score is identified as the \"interviewer\", while the other speaker(s) are classified as \"interviewee(s)\".\n",
    "\n",
    "### Conclusion\n",
    "\n",
    "This pipeline provides a simple yet effective way of identifying the interviewer in an interview transcript based on the matching scores between the transcript and a reference list of questions. It can be useful for various applications, such as analyzing interview sentiments.\n",
    "\n",
    "---"
   ]
  },
  {
   "cell_type": "code",
   "execution_count": 1,
   "metadata": {},
   "outputs": [],
   "source": [
    "import pandas as pd\n",
    "import difflib  as dl\n",
    "import numpy as np"
   ]
  },
  {
   "cell_type": "markdown",
   "metadata": {},
   "source": [
    "### Loading the data"
   ]
  },
  {
   "cell_type": "code",
   "execution_count": 4,
   "metadata": {},
   "outputs": [],
   "source": [
    "# read a sample transcript which we saved in data frame\n",
    "transcript = pd.read_excel(\"../res/processed_transcript_from_json_to_dataframe.xlsx\")"
   ]
  },
  {
   "cell_type": "code",
   "execution_count": 5,
   "metadata": {},
   "outputs": [
    {
     "data": {
      "text/html": [
       "<div>\n",
       "<style scoped>\n",
       "    .dataframe tbody tr th:only-of-type {\n",
       "        vertical-align: middle;\n",
       "    }\n",
       "\n",
       "    .dataframe tbody tr th {\n",
       "        vertical-align: top;\n",
       "    }\n",
       "\n",
       "    .dataframe thead th {\n",
       "        text-align: right;\n",
       "    }\n",
       "</style>\n",
       "<table border=\"1\" class=\"dataframe\">\n",
       "  <thead>\n",
       "    <tr style=\"text-align: right;\">\n",
       "      <th></th>\n",
       "      <th>Unnamed: 0</th>\n",
       "      <th>start_time</th>\n",
       "      <th>end_time</th>\n",
       "      <th>speaker</th>\n",
       "      <th>text</th>\n",
       "      <th>confidence</th>\n",
       "    </tr>\n",
       "  </thead>\n",
       "  <tbody>\n",
       "    <tr>\n",
       "      <th>0</th>\n",
       "      <td>0</td>\n",
       "      <td>0:00:00.0</td>\n",
       "      <td>9.13</td>\n",
       "      <td>spk_0</td>\n",
       "      <td>And resources at the National University of Si...</td>\n",
       "      <td>[{'text': 'And', 'confidence': 0.9411, 'start_...</td>\n",
       "    </tr>\n",
       "    <tr>\n",
       "      <th>1</th>\n",
       "      <td>1</td>\n",
       "      <td>0:00:09.13</td>\n",
       "      <td>1.23</td>\n",
       "      <td>spk_1</td>\n",
       "      <td>[PII] nice to be here.</td>\n",
       "      <td>[{'text': '[PII]', 'confidence': 0.9999, 'star...</td>\n",
       "    </tr>\n",
       "    <tr>\n",
       "      <th>2</th>\n",
       "      <td>2</td>\n",
       "      <td>0:00:10.37</td>\n",
       "      <td>3.37</td>\n",
       "      <td>spk_0</td>\n",
       "      <td>Dr [PII] on general practitioner from Dr anywh...</td>\n",
       "      <td>[{'text': 'Dr', 'confidence': 0.7912, 'start_t...</td>\n",
       "    </tr>\n",
       "    <tr>\n",
       "      <th>3</th>\n",
       "      <td>3</td>\n",
       "      <td>0:00:13.75</td>\n",
       "      <td>2.07</td>\n",
       "      <td>spk_2</td>\n",
       "      <td>Thank you very much for inviting us here today.</td>\n",
       "      <td>[{'text': 'Thank', 'confidence': 1.0, 'start_t...</td>\n",
       "    </tr>\n",
       "    <tr>\n",
       "      <th>4</th>\n",
       "      <td>4</td>\n",
       "      <td>0:00:15.83</td>\n",
       "      <td>4.04</td>\n",
       "      <td>spk_0</td>\n",
       "      <td>And dr medical director at Felix Medical group.</td>\n",
       "      <td>[{'text': 'And', 'confidence': 1.0, 'start_tim...</td>\n",
       "    </tr>\n",
       "  </tbody>\n",
       "</table>\n",
       "</div>"
      ],
      "text/plain": [
       "   Unnamed: 0  start_time  end_time speaker  \\\n",
       "0           0   0:00:00.0      9.13   spk_0   \n",
       "1           1  0:00:09.13      1.23   spk_1   \n",
       "2           2  0:00:10.37      3.37   spk_0   \n",
       "3           3  0:00:13.75      2.07   spk_2   \n",
       "4           4  0:00:15.83      4.04   spk_0   \n",
       "\n",
       "                                                text  \\\n",
       "0  And resources at the National University of Si...   \n",
       "1                             [PII] nice to be here.   \n",
       "2  Dr [PII] on general practitioner from Dr anywh...   \n",
       "3    Thank you very much for inviting us here today.   \n",
       "4    And dr medical director at Felix Medical group.   \n",
       "\n",
       "                                          confidence  \n",
       "0  [{'text': 'And', 'confidence': 0.9411, 'start_...  \n",
       "1  [{'text': '[PII]', 'confidence': 0.9999, 'star...  \n",
       "2  [{'text': 'Dr', 'confidence': 0.7912, 'start_t...  \n",
       "3  [{'text': 'Thank', 'confidence': 1.0, 'start_t...  \n",
       "4  [{'text': 'And', 'confidence': 1.0, 'start_tim...  "
      ]
     },
     "execution_count": 5,
     "metadata": {},
     "output_type": "execute_result"
    }
   ],
   "source": [
    "transcript.head()"
   ]
  },
  {
   "cell_type": "markdown",
   "metadata": {},
   "source": [
    "#### Assumptions:\n",
    "1. In this project we combine spk_1 + spk_2 + spk_3 into one \"person\" as a \"collective interviewee\""
   ]
  },
  {
   "cell_type": "code",
   "execution_count": 6,
   "metadata": {},
   "outputs": [],
   "source": [
    "transcript['speaker'] = transcript['speaker'].astype(str)"
   ]
  },
  {
   "cell_type": "code",
   "execution_count": 7,
   "metadata": {},
   "outputs": [],
   "source": [
    "transcript['speaker'] = transcript['speaker'].apply(lambda x:x if x=='spk_0' else 'spk_1')"
   ]
  },
  {
   "cell_type": "code",
   "execution_count": 8,
   "metadata": {},
   "outputs": [
    {
     "data": {
      "text/html": [
       "<div>\n",
       "<style scoped>\n",
       "    .dataframe tbody tr th:only-of-type {\n",
       "        vertical-align: middle;\n",
       "    }\n",
       "\n",
       "    .dataframe tbody tr th {\n",
       "        vertical-align: top;\n",
       "    }\n",
       "\n",
       "    .dataframe thead th {\n",
       "        text-align: right;\n",
       "    }\n",
       "</style>\n",
       "<table border=\"1\" class=\"dataframe\">\n",
       "  <thead>\n",
       "    <tr style=\"text-align: right;\">\n",
       "      <th></th>\n",
       "      <th>speaker</th>\n",
       "      <th>text</th>\n",
       "    </tr>\n",
       "  </thead>\n",
       "  <tbody>\n",
       "    <tr>\n",
       "      <th>0</th>\n",
       "      <td>spk_0</td>\n",
       "      <td>And resources at the National University of Si...</td>\n",
       "    </tr>\n",
       "    <tr>\n",
       "      <th>1</th>\n",
       "      <td>spk_1</td>\n",
       "      <td>[PII] nice to be here.</td>\n",
       "    </tr>\n",
       "    <tr>\n",
       "      <th>2</th>\n",
       "      <td>spk_0</td>\n",
       "      <td>Dr [PII] on general practitioner from Dr anywh...</td>\n",
       "    </tr>\n",
       "    <tr>\n",
       "      <th>3</th>\n",
       "      <td>spk_1</td>\n",
       "      <td>Thank you very much for inviting us here today.</td>\n",
       "    </tr>\n",
       "    <tr>\n",
       "      <th>4</th>\n",
       "      <td>spk_0</td>\n",
       "      <td>And dr medical director at Felix Medical group.</td>\n",
       "    </tr>\n",
       "    <tr>\n",
       "      <th>5</th>\n",
       "      <td>spk_1</td>\n",
       "      <td>Good afternoon [PII] and everyone else.</td>\n",
       "    </tr>\n",
       "    <tr>\n",
       "      <th>6</th>\n",
       "      <td>spk_0</td>\n",
       "      <td>Okay gentlemen, thanks so much for joining us....</td>\n",
       "    </tr>\n",
       "    <tr>\n",
       "      <th>7</th>\n",
       "      <td>spk_1</td>\n",
       "      <td>I think healthier S. G. Is a whole rethinking ...</td>\n",
       "    </tr>\n",
       "    <tr>\n",
       "      <th>8</th>\n",
       "      <td>spk_0</td>\n",
       "      <td>And what do you think? Do you agree with that?</td>\n",
       "    </tr>\n",
       "    <tr>\n",
       "      <th>9</th>\n",
       "      <td>spk_1</td>\n",
       "      <td>Absolutely. I think [PII] has got the summary ...</td>\n",
       "    </tr>\n",
       "  </tbody>\n",
       "</table>\n",
       "</div>"
      ],
      "text/plain": [
       "  speaker                                               text\n",
       "0   spk_0  And resources at the National University of Si...\n",
       "1   spk_1                             [PII] nice to be here.\n",
       "2   spk_0  Dr [PII] on general practitioner from Dr anywh...\n",
       "3   spk_1    Thank you very much for inviting us here today.\n",
       "4   spk_0    And dr medical director at Felix Medical group.\n",
       "5   spk_1            Good afternoon [PII] and everyone else.\n",
       "6   spk_0  Okay gentlemen, thanks so much for joining us....\n",
       "7   spk_1  I think healthier S. G. Is a whole rethinking ...\n",
       "8   spk_0     And what do you think? Do you agree with that?\n",
       "9   spk_1  Absolutely. I think [PII] has got the summary ..."
      ]
     },
     "execution_count": 8,
     "metadata": {},
     "output_type": "execute_result"
    }
   ],
   "source": [
    "transcript = transcript[['speaker','text']]\n",
    "transcript.head(10)"
   ]
  },
  {
   "cell_type": "markdown",
   "metadata": {},
   "source": [
    "#### This is a reference list of questions, for this interview\n",
    "The reference list represents high level question for different topics and may varies from all the questioned the interviewer asked. Sometimes interviewer asks more questions for the same topic, or gives some background before asks a question. We will identify and map lines in transcrip to the reference questions and answers to these questions. "
   ]
  },
  {
   "cell_type": "code",
   "execution_count": 9,
   "metadata": {},
   "outputs": [],
   "source": [
    "list_of_questions =[\n",
    "    \"From your point of view What is Healthier SG\",\n",
    "    \"when you look at our health care system, what was wrong with it? I mean, why are we doing this now? Why are we shifting in this direction?  \",\n",
    "    \"The idea of having family doctors is something so common elsewhere in the world. Why are we only doing it now?\",\n",
    "    \"Will this also add on to increasing burdens for GPs? What would Healthier SG mean for GPs?\"\n",
    "    \"How dispence of medications will affect your operations?\",\n",
    "    \"Fees will be paid to GPS based on the health risk profiles of patients and depending on the outcomes.How are you going to measure this when outcome is going to be so different for everyone?\",\n",
    "    \"As a national savings for the healthcare system, will we save money is this is running correctly?\",\n",
    "    \"Should the typical patient be concerned about rising costs when they go see the doctor world prices increase over time?\",\n",
    "    \"If there's one thing that you could you know change right now fixed right now with regards to our health care system, what would it be?\"\n",
    "]"
   ]
  },
  {
   "cell_type": "markdown",
   "metadata": {},
   "source": [
    "### Calculating matchin score for *spk_0*\n"
   ]
  },
  {
   "cell_type": "code",
   "execution_count": 8,
   "metadata": {},
   "outputs": [],
   "source": [
    "# Select only spk_0 lines:\n",
    "df_spk0 = transcript[transcript.speaker==\"spk_0\"]"
   ]
  },
  {
   "cell_type": "code",
   "execution_count": 9,
   "metadata": {},
   "outputs": [],
   "source": [
    "df_spk0=df_spk0.reset_index()"
   ]
  },
  {
   "cell_type": "code",
   "execution_count": 10,
   "metadata": {},
   "outputs": [
    {
     "data": {
      "text/html": [
       "<div>\n",
       "<style scoped>\n",
       "    .dataframe tbody tr th:only-of-type {\n",
       "        vertical-align: middle;\n",
       "    }\n",
       "\n",
       "    .dataframe tbody tr th {\n",
       "        vertical-align: top;\n",
       "    }\n",
       "\n",
       "    .dataframe thead th {\n",
       "        text-align: right;\n",
       "    }\n",
       "</style>\n",
       "<table border=\"1\" class=\"dataframe\">\n",
       "  <thead>\n",
       "    <tr style=\"text-align: right;\">\n",
       "      <th></th>\n",
       "      <th>index</th>\n",
       "      <th>speaker</th>\n",
       "      <th>text</th>\n",
       "    </tr>\n",
       "  </thead>\n",
       "  <tbody>\n",
       "    <tr>\n",
       "      <th>0</th>\n",
       "      <td>0</td>\n",
       "      <td>spk_0</td>\n",
       "      <td>And resources at the National University of Si...</td>\n",
       "    </tr>\n",
       "    <tr>\n",
       "      <th>1</th>\n",
       "      <td>2</td>\n",
       "      <td>spk_0</td>\n",
       "      <td>Dr [PII] on general practitioner from Dr anywh...</td>\n",
       "    </tr>\n",
       "    <tr>\n",
       "      <th>2</th>\n",
       "      <td>4</td>\n",
       "      <td>spk_0</td>\n",
       "      <td>And dr medical director at Felix Medical group.</td>\n",
       "    </tr>\n",
       "    <tr>\n",
       "      <th>3</th>\n",
       "      <td>6</td>\n",
       "      <td>spk_0</td>\n",
       "      <td>Okay gentlemen, thanks so much for joining us....</td>\n",
       "    </tr>\n",
       "    <tr>\n",
       "      <th>4</th>\n",
       "      <td>8</td>\n",
       "      <td>spk_0</td>\n",
       "      <td>And what do you think? Do you agree with that?</td>\n",
       "    </tr>\n",
       "  </tbody>\n",
       "</table>\n",
       "</div>"
      ],
      "text/plain": [
       "   index speaker                                               text\n",
       "0      0   spk_0  And resources at the National University of Si...\n",
       "1      2   spk_0  Dr [PII] on general practitioner from Dr anywh...\n",
       "2      4   spk_0    And dr medical director at Felix Medical group.\n",
       "3      6   spk_0  Okay gentlemen, thanks so much for joining us....\n",
       "4      8   spk_0     And what do you think? Do you agree with that?"
      ]
     },
     "execution_count": 10,
     "metadata": {},
     "output_type": "execute_result"
    }
   ],
   "source": [
    "df_spk0.head()"
   ]
  },
  {
   "cell_type": "code",
   "execution_count": 11,
   "metadata": {
    "scrolled": true
   },
   "outputs": [],
   "source": [
    "import difflib  as dl"
   ]
  },
  {
   "cell_type": "code",
   "execution_count": 12,
   "metadata": {},
   "outputs": [
    {
     "name": "stdout",
     "output_type": "stream",
     "text": [
      "786\n"
     ]
    }
   ],
   "source": [
    "possibilities = df_spk0.text.tolist()\n",
    "# get max length for padding:\n",
    "padding_len = max([len(val) for val in possibilities])\n",
    "print(padding_len)"
   ]
  },
  {
   "cell_type": "code",
   "execution_count": 13,
   "metadata": {},
   "outputs": [],
   "source": [
    "def get_similarity(s1,s2, padding_len):\n",
    "    \"\"\"\n",
    "    s1: current line of speaker\n",
    "    s2: is for question from the reference list of questions\n",
    "    padding_len: all lines in transcript are aligned to the left side by inserting \n",
    "    padding to the right end of the string. This help to ensure a fair comparision.\n",
    "    \"\"\"\n",
    "    # s1 need to be padded with 0:\n",
    "    s1=s1.ljust(padding_len, '0')\n",
    "    return dl.SequenceMatcher(None, s2, s1).ratio()\n",
    "    \n",
    "    "
   ]
  },
  {
   "cell_type": "markdown",
   "metadata": {},
   "source": [
    "#### a) Getting a similarity scores for each question vs each line in transcript:"
   ]
  },
  {
   "cell_type": "code",
   "execution_count": 14,
   "metadata": {},
   "outputs": [],
   "source": [
    "for i,q_i in enumerate(list_of_questions):\n",
    "    df_spk0[q_i] = 0\n",
    "    df_spk0[q_i] = df_spk0[\"text\"].apply(lambda x:get_similarity(str(x), q_i,padding_len ))"
   ]
  },
  {
   "cell_type": "markdown",
   "metadata": {},
   "source": [
    "#### b) For each Reference question (column in our case) calculate the max score and then take the mean:"
   ]
  },
  {
   "cell_type": "code",
   "execution_count": 20,
   "metadata": {},
   "outputs": [
    {
     "data": {
      "text/plain": [
       "0.20355017080803853"
      ]
     },
     "execution_count": 20,
     "metadata": {},
     "output_type": "execute_result"
    }
   ],
   "source": [
    "spk_0_avg_score = np.mean(df_spk0.max().tolist()[3:])\n",
    "spk_0_avg_score"
   ]
  },
  {
   "cell_type": "markdown",
   "metadata": {},
   "source": [
    "#### c) create a new column in the transcript and fill out this score as score for the spk_0:"
   ]
  },
  {
   "cell_type": "code",
   "execution_count": 26,
   "metadata": {},
   "outputs": [],
   "source": [
    "# add this score as a column to the transcript\n",
    "transcript['spk_0_score']=spk_0_avg_score"
   ]
  },
  {
   "cell_type": "markdown",
   "metadata": {},
   "source": [
    "### Calculating matchin score for *spk_1*\n"
   ]
  },
  {
   "cell_type": "code",
   "execution_count": 21,
   "metadata": {},
   "outputs": [
    {
     "data": {
      "text/html": [
       "<div>\n",
       "<style scoped>\n",
       "    .dataframe tbody tr th:only-of-type {\n",
       "        vertical-align: middle;\n",
       "    }\n",
       "\n",
       "    .dataframe tbody tr th {\n",
       "        vertical-align: top;\n",
       "    }\n",
       "\n",
       "    .dataframe thead th {\n",
       "        text-align: right;\n",
       "    }\n",
       "</style>\n",
       "<table border=\"1\" class=\"dataframe\">\n",
       "  <thead>\n",
       "    <tr style=\"text-align: right;\">\n",
       "      <th></th>\n",
       "      <th>index</th>\n",
       "      <th>speaker</th>\n",
       "      <th>text</th>\n",
       "    </tr>\n",
       "  </thead>\n",
       "  <tbody>\n",
       "    <tr>\n",
       "      <th>0</th>\n",
       "      <td>1</td>\n",
       "      <td>spk_1</td>\n",
       "      <td>[PII] nice to be here.</td>\n",
       "    </tr>\n",
       "    <tr>\n",
       "      <th>1</th>\n",
       "      <td>3</td>\n",
       "      <td>spk_1</td>\n",
       "      <td>Thank you very much for inviting us here today.</td>\n",
       "    </tr>\n",
       "    <tr>\n",
       "      <th>2</th>\n",
       "      <td>5</td>\n",
       "      <td>spk_1</td>\n",
       "      <td>Good afternoon [PII] and everyone else.</td>\n",
       "    </tr>\n",
       "    <tr>\n",
       "      <th>3</th>\n",
       "      <td>7</td>\n",
       "      <td>spk_1</td>\n",
       "      <td>I think healthier S. G. Is a whole rethinking ...</td>\n",
       "    </tr>\n",
       "    <tr>\n",
       "      <th>4</th>\n",
       "      <td>9</td>\n",
       "      <td>spk_1</td>\n",
       "      <td>Absolutely. I think [PII] has got the summary ...</td>\n",
       "    </tr>\n",
       "  </tbody>\n",
       "</table>\n",
       "</div>"
      ],
      "text/plain": [
       "   index speaker                                               text\n",
       "0      1   spk_1                             [PII] nice to be here.\n",
       "1      3   spk_1    Thank you very much for inviting us here today.\n",
       "2      5   spk_1            Good afternoon [PII] and everyone else.\n",
       "3      7   spk_1  I think healthier S. G. Is a whole rethinking ...\n",
       "4      9   spk_1  Absolutely. I think [PII] has got the summary ..."
      ]
     },
     "execution_count": 21,
     "metadata": {},
     "output_type": "execute_result"
    }
   ],
   "source": [
    "# Select only interviewer's lines:\n",
    "df_spk1 = transcript[transcript.speaker==\"spk_1\"]\n",
    "df_spk1=df_spk1.reset_index()\n",
    "df_spk1.head()"
   ]
  },
  {
   "cell_type": "markdown",
   "metadata": {},
   "source": [
    "#### a) Getting a similarity scores for each question vs each line in transcript:"
   ]
  },
  {
   "cell_type": "code",
   "execution_count": 22,
   "metadata": {},
   "outputs": [],
   "source": [
    "for i,q_i in enumerate(list_of_questions):\n",
    "    df_spk1[q_i] = 0\n",
    "    df_spk1[q_i] = df_spk1[\"text\"].apply(lambda x:get_similarity(str(x), q_i,padding_len ))"
   ]
  },
  {
   "cell_type": "code",
   "execution_count": 23,
   "metadata": {},
   "outputs": [
    {
     "data": {
      "text/html": [
       "<div>\n",
       "<style scoped>\n",
       "    .dataframe tbody tr th:only-of-type {\n",
       "        vertical-align: middle;\n",
       "    }\n",
       "\n",
       "    .dataframe tbody tr th {\n",
       "        vertical-align: top;\n",
       "    }\n",
       "\n",
       "    .dataframe thead th {\n",
       "        text-align: right;\n",
       "    }\n",
       "</style>\n",
       "<table border=\"1\" class=\"dataframe\">\n",
       "  <thead>\n",
       "    <tr style=\"text-align: right;\">\n",
       "      <th></th>\n",
       "      <th>index</th>\n",
       "      <th>speaker</th>\n",
       "      <th>text</th>\n",
       "      <th>From your point of view What is Healthier SG</th>\n",
       "      <th>when you look at our health care system, what was wrong with it? I mean, why are we doing this now? Why are we shifting in this direction?</th>\n",
       "      <th>The idea of having family doctors is something so common elsewhere in the world. Why are we only doing it now?</th>\n",
       "      <th>Will this also add on to increasing burdens for GPs? What would Healthier SG mean for GPs?How dispence of medications will affect your operations?</th>\n",
       "      <th>Fees will be paid to GPS based on the health risk profiles of patients and depending on the outcomes.How are you going to measure this when outcome is going to be so different for everyone?</th>\n",
       "      <th>As a national savings for the healthcare system, will we save money is this is running correctly?</th>\n",
       "      <th>Should the typical patient be concerned about rising costs when they go see the doctor world prices increase over time?</th>\n",
       "      <th>If there's one thing that you could you know change right now fixed right now with regards to our health care system, what would it be?</th>\n",
       "    </tr>\n",
       "  </thead>\n",
       "  <tbody>\n",
       "    <tr>\n",
       "      <th>0</th>\n",
       "      <td>1</td>\n",
       "      <td>spk_1</td>\n",
       "      <td>[PII] nice to be here.</td>\n",
       "      <td>0.014458</td>\n",
       "      <td>0.019438</td>\n",
       "      <td>0.024554</td>\n",
       "      <td>0.015021</td>\n",
       "      <td>0.022564</td>\n",
       "      <td>0.024915</td>\n",
       "      <td>0.024309</td>\n",
       "      <td>0.015201</td>\n",
       "    </tr>\n",
       "    <tr>\n",
       "      <th>1</th>\n",
       "      <td>3</td>\n",
       "      <td>spk_1</td>\n",
       "      <td>Thank you very much for inviting us here today.</td>\n",
       "      <td>0.040964</td>\n",
       "      <td>0.045356</td>\n",
       "      <td>0.046875</td>\n",
       "      <td>0.038627</td>\n",
       "      <td>0.043077</td>\n",
       "      <td>0.038505</td>\n",
       "      <td>0.046409</td>\n",
       "      <td>0.043431</td>\n",
       "    </tr>\n",
       "    <tr>\n",
       "      <th>2</th>\n",
       "      <td>5</td>\n",
       "      <td>spk_1</td>\n",
       "      <td>Good afternoon [PII] and everyone else.</td>\n",
       "      <td>0.021687</td>\n",
       "      <td>0.019438</td>\n",
       "      <td>0.022321</td>\n",
       "      <td>0.040773</td>\n",
       "      <td>0.041026</td>\n",
       "      <td>0.036240</td>\n",
       "      <td>0.033149</td>\n",
       "      <td>0.023887</td>\n",
       "    </tr>\n",
       "    <tr>\n",
       "      <th>3</th>\n",
       "      <td>7</td>\n",
       "      <td>spk_1</td>\n",
       "      <td>I think healthier S. G. Is a whole rethinking ...</td>\n",
       "      <td>0.012048</td>\n",
       "      <td>0.025918</td>\n",
       "      <td>0.013393</td>\n",
       "      <td>0.023605</td>\n",
       "      <td>0.026667</td>\n",
       "      <td>0.022650</td>\n",
       "      <td>0.017680</td>\n",
       "      <td>0.021716</td>\n",
       "    </tr>\n",
       "    <tr>\n",
       "      <th>4</th>\n",
       "      <td>9</td>\n",
       "      <td>spk_1</td>\n",
       "      <td>Absolutely. I think [PII] has got the summary ...</td>\n",
       "      <td>0.016260</td>\n",
       "      <td>0.005900</td>\n",
       "      <td>0.003604</td>\n",
       "      <td>0.008230</td>\n",
       "      <td>0.005734</td>\n",
       "      <td>0.001211</td>\n",
       "      <td>0.001195</td>\n",
       "      <td>0.003550</td>\n",
       "    </tr>\n",
       "  </tbody>\n",
       "</table>\n",
       "</div>"
      ],
      "text/plain": [
       "   index speaker                                               text  \\\n",
       "0      1   spk_1                             [PII] nice to be here.   \n",
       "1      3   spk_1    Thank you very much for inviting us here today.   \n",
       "2      5   spk_1            Good afternoon [PII] and everyone else.   \n",
       "3      7   spk_1  I think healthier S. G. Is a whole rethinking ...   \n",
       "4      9   spk_1  Absolutely. I think [PII] has got the summary ...   \n",
       "\n",
       "   From your point of view What is Healthier SG  \\\n",
       "0                                      0.014458   \n",
       "1                                      0.040964   \n",
       "2                                      0.021687   \n",
       "3                                      0.012048   \n",
       "4                                      0.016260   \n",
       "\n",
       "   when you look at our health care system, what was wrong with it? I mean, why are we doing this now? Why are we shifting in this direction?    \\\n",
       "0                                           0.019438                                                                                              \n",
       "1                                           0.045356                                                                                              \n",
       "2                                           0.019438                                                                                              \n",
       "3                                           0.025918                                                                                              \n",
       "4                                           0.005900                                                                                              \n",
       "\n",
       "   The idea of having family doctors is something so common elsewhere in the world. Why are we only doing it now?  \\\n",
       "0                                           0.024554                                                                \n",
       "1                                           0.046875                                                                \n",
       "2                                           0.022321                                                                \n",
       "3                                           0.013393                                                                \n",
       "4                                           0.003604                                                                \n",
       "\n",
       "   Will this also add on to increasing burdens for GPs? What would Healthier SG mean for GPs?How dispence of medications will affect your operations?  \\\n",
       "0                                           0.015021                                                                                                    \n",
       "1                                           0.038627                                                                                                    \n",
       "2                                           0.040773                                                                                                    \n",
       "3                                           0.023605                                                                                                    \n",
       "4                                           0.008230                                                                                                    \n",
       "\n",
       "   Fees will be paid to GPS based on the health risk profiles of patients and depending on the outcomes.How are you going to measure this when outcome is going to be so different for everyone?  \\\n",
       "0                                           0.022564                                                                                                                                               \n",
       "1                                           0.043077                                                                                                                                               \n",
       "2                                           0.041026                                                                                                                                               \n",
       "3                                           0.026667                                                                                                                                               \n",
       "4                                           0.005734                                                                                                                                               \n",
       "\n",
       "   As a national savings for the healthcare system, will we save money is this is running correctly?  \\\n",
       "0                                           0.024915                                                   \n",
       "1                                           0.038505                                                   \n",
       "2                                           0.036240                                                   \n",
       "3                                           0.022650                                                   \n",
       "4                                           0.001211                                                   \n",
       "\n",
       "   Should the typical patient be concerned about rising costs when they go see the doctor world prices increase over time?  \\\n",
       "0                                           0.024309                                                                         \n",
       "1                                           0.046409                                                                         \n",
       "2                                           0.033149                                                                         \n",
       "3                                           0.017680                                                                         \n",
       "4                                           0.001195                                                                         \n",
       "\n",
       "   If there's one thing that you could you know change right now fixed right now with regards to our health care system, what would it be?  \n",
       "0                                           0.015201                                                                                        \n",
       "1                                           0.043431                                                                                        \n",
       "2                                           0.023887                                                                                        \n",
       "3                                           0.021716                                                                                        \n",
       "4                                           0.003550                                                                                        "
      ]
     },
     "execution_count": 23,
     "metadata": {},
     "output_type": "execute_result"
    }
   ],
   "source": [
    "df_spk1.head()"
   ]
  },
  {
   "cell_type": "markdown",
   "metadata": {},
   "source": [
    "#### b) For each Reference question (column in our case) calculate the max score and then take the mean:"
   ]
  },
  {
   "cell_type": "code",
   "execution_count": 24,
   "metadata": {},
   "outputs": [
    {
     "data": {
      "text/plain": [
       "0.05568236160918105"
      ]
     },
     "execution_count": 24,
     "metadata": {},
     "output_type": "execute_result"
    }
   ],
   "source": [
    "spk_1_avg_score = np.mean(df_spk1.max().tolist()[3:])\n",
    "spk_1_avg_score"
   ]
  },
  {
   "cell_type": "markdown",
   "metadata": {},
   "source": [
    "#### c) create a new column in the transcript and fill out this score as score for the spk_1:"
   ]
  },
  {
   "cell_type": "code",
   "execution_count": 25,
   "metadata": {},
   "outputs": [],
   "source": [
    "# add this score as a column to the transcript\n",
    "transcript['spk_1_score']=spk_1_avg_score"
   ]
  },
  {
   "cell_type": "markdown",
   "metadata": {},
   "source": [
    "### Identifying the interviewer\n",
    "Compare the score for spk_0 and spk_1.\n",
    "Those who has the highest score is \"interviewer\", because it's the transcript's lines are best matched with the list of reference question"
   ]
  },
  {
   "cell_type": "code",
   "execution_count": 29,
   "metadata": {},
   "outputs": [
    {
     "data": {
      "text/html": [
       "<div>\n",
       "<style scoped>\n",
       "    .dataframe tbody tr th:only-of-type {\n",
       "        vertical-align: middle;\n",
       "    }\n",
       "\n",
       "    .dataframe tbody tr th {\n",
       "        vertical-align: top;\n",
       "    }\n",
       "\n",
       "    .dataframe thead th {\n",
       "        text-align: right;\n",
       "    }\n",
       "</style>\n",
       "<table border=\"1\" class=\"dataframe\">\n",
       "  <thead>\n",
       "    <tr style=\"text-align: right;\">\n",
       "      <th></th>\n",
       "      <th>speaker</th>\n",
       "      <th>text</th>\n",
       "      <th>spk_1_score</th>\n",
       "      <th>spk_0_score</th>\n",
       "    </tr>\n",
       "  </thead>\n",
       "  <tbody>\n",
       "    <tr>\n",
       "      <th>0</th>\n",
       "      <td>spk_0</td>\n",
       "      <td>And resources at the National University of Si...</td>\n",
       "      <td>0.055682</td>\n",
       "      <td>0.20355</td>\n",
       "    </tr>\n",
       "    <tr>\n",
       "      <th>1</th>\n",
       "      <td>spk_1</td>\n",
       "      <td>[PII] nice to be here.</td>\n",
       "      <td>0.055682</td>\n",
       "      <td>0.20355</td>\n",
       "    </tr>\n",
       "    <tr>\n",
       "      <th>2</th>\n",
       "      <td>spk_0</td>\n",
       "      <td>Dr [PII] on general practitioner from Dr anywh...</td>\n",
       "      <td>0.055682</td>\n",
       "      <td>0.20355</td>\n",
       "    </tr>\n",
       "    <tr>\n",
       "      <th>3</th>\n",
       "      <td>spk_1</td>\n",
       "      <td>Thank you very much for inviting us here today.</td>\n",
       "      <td>0.055682</td>\n",
       "      <td>0.20355</td>\n",
       "    </tr>\n",
       "    <tr>\n",
       "      <th>4</th>\n",
       "      <td>spk_0</td>\n",
       "      <td>And dr medical director at Felix Medical group.</td>\n",
       "      <td>0.055682</td>\n",
       "      <td>0.20355</td>\n",
       "    </tr>\n",
       "  </tbody>\n",
       "</table>\n",
       "</div>"
      ],
      "text/plain": [
       "  speaker                                               text  spk_1_score  \\\n",
       "0   spk_0  And resources at the National University of Si...     0.055682   \n",
       "1   spk_1                             [PII] nice to be here.     0.055682   \n",
       "2   spk_0  Dr [PII] on general practitioner from Dr anywh...     0.055682   \n",
       "3   spk_1    Thank you very much for inviting us here today.     0.055682   \n",
       "4   spk_0    And dr medical director at Felix Medical group.     0.055682   \n",
       "\n",
       "   spk_0_score  \n",
       "0      0.20355  \n",
       "1      0.20355  \n",
       "2      0.20355  \n",
       "3      0.20355  \n",
       "4      0.20355  "
      ]
     },
     "execution_count": 29,
     "metadata": {},
     "output_type": "execute_result"
    }
   ],
   "source": [
    "transcript.head(5)"
   ]
  },
  {
   "cell_type": "code",
   "execution_count": 30,
   "metadata": {},
   "outputs": [],
   "source": [
    "def who_is_interviewer(df,i):\n",
    "    # if the i-line is for spk_0 and spk_0_score>spk_1_score then spk_0 is interviewer\n",
    "    if df['speaker'][i]==\"spk_0\":\n",
    "        if df[\"spk_0_score\"][i]>=df[\"spk_1_score\"][i]:\n",
    "            return \"interviewer\"\n",
    "        else:\n",
    "            return \"interviewee\"\n",
    "    else: # the line i belongs to spk_1\n",
    "        if df[\"spk_0_score\"][i]>=df[\"spk_1_score\"][i]:\n",
    "            return \"interviewee\"\n",
    "        else:\n",
    "            return \"interviewer\""
   ]
  },
  {
   "cell_type": "code",
   "execution_count": 33,
   "metadata": {},
   "outputs": [
    {
     "name": "stderr",
     "output_type": "stream",
     "text": [
      "/Users/yana/anaconda3/lib/python3.7/site-packages/ipykernel_launcher.py:4: SettingWithCopyWarning: \n",
      "A value is trying to be set on a copy of a slice from a DataFrame\n",
      "\n",
      "See the caveats in the documentation: https://pandas.pydata.org/pandas-docs/stable/user_guide/indexing.html#returning-a-view-versus-a-copy\n",
      "  after removing the cwd from sys.path.\n"
     ]
    }
   ],
   "source": [
    "# create a new column to keep values who is interviewee/interviewer:\n",
    "transcript['role']=\"\"\n",
    "for ind in transcript.index:\n",
    "    transcript['role'][ind] = who_is_interviewer(transcript, ind)"
   ]
  },
  {
   "cell_type": "code",
   "execution_count": 34,
   "metadata": {},
   "outputs": [
    {
     "data": {
      "text/html": [
       "<div>\n",
       "<style scoped>\n",
       "    .dataframe tbody tr th:only-of-type {\n",
       "        vertical-align: middle;\n",
       "    }\n",
       "\n",
       "    .dataframe tbody tr th {\n",
       "        vertical-align: top;\n",
       "    }\n",
       "\n",
       "    .dataframe thead th {\n",
       "        text-align: right;\n",
       "    }\n",
       "</style>\n",
       "<table border=\"1\" class=\"dataframe\">\n",
       "  <thead>\n",
       "    <tr style=\"text-align: right;\">\n",
       "      <th></th>\n",
       "      <th>speaker</th>\n",
       "      <th>text</th>\n",
       "      <th>spk_1_score</th>\n",
       "      <th>spk_0_score</th>\n",
       "      <th>role</th>\n",
       "    </tr>\n",
       "  </thead>\n",
       "  <tbody>\n",
       "    <tr>\n",
       "      <th>0</th>\n",
       "      <td>spk_0</td>\n",
       "      <td>And resources at the National University of Si...</td>\n",
       "      <td>0.055682</td>\n",
       "      <td>0.20355</td>\n",
       "      <td>interviewer</td>\n",
       "    </tr>\n",
       "    <tr>\n",
       "      <th>1</th>\n",
       "      <td>spk_1</td>\n",
       "      <td>[PII] nice to be here.</td>\n",
       "      <td>0.055682</td>\n",
       "      <td>0.20355</td>\n",
       "      <td>interviewee</td>\n",
       "    </tr>\n",
       "    <tr>\n",
       "      <th>2</th>\n",
       "      <td>spk_0</td>\n",
       "      <td>Dr [PII] on general practitioner from Dr anywh...</td>\n",
       "      <td>0.055682</td>\n",
       "      <td>0.20355</td>\n",
       "      <td>interviewer</td>\n",
       "    </tr>\n",
       "    <tr>\n",
       "      <th>3</th>\n",
       "      <td>spk_1</td>\n",
       "      <td>Thank you very much for inviting us here today.</td>\n",
       "      <td>0.055682</td>\n",
       "      <td>0.20355</td>\n",
       "      <td>interviewee</td>\n",
       "    </tr>\n",
       "    <tr>\n",
       "      <th>4</th>\n",
       "      <td>spk_0</td>\n",
       "      <td>And dr medical director at Felix Medical group.</td>\n",
       "      <td>0.055682</td>\n",
       "      <td>0.20355</td>\n",
       "      <td>interviewer</td>\n",
       "    </tr>\n",
       "    <tr>\n",
       "      <th>...</th>\n",
       "      <td>...</td>\n",
       "      <td>...</td>\n",
       "      <td>...</td>\n",
       "      <td>...</td>\n",
       "      <td>...</td>\n",
       "    </tr>\n",
       "    <tr>\n",
       "      <th>61</th>\n",
       "      <td>spk_1</td>\n",
       "      <td>I will say vaccinations. You know the accessib...</td>\n",
       "      <td>0.055682</td>\n",
       "      <td>0.20355</td>\n",
       "      <td>interviewee</td>\n",
       "    </tr>\n",
       "    <tr>\n",
       "      <th>62</th>\n",
       "      <td>spk_0</td>\n",
       "      <td>also the flick of switch and everyone is tomorrow</td>\n",
       "      <td>0.055682</td>\n",
       "      <td>0.20355</td>\n",
       "      <td>interviewer</td>\n",
       "    </tr>\n",
       "    <tr>\n",
       "      <th>63</th>\n",
       "      <td>spk_1</td>\n",
       "      <td>somehow.</td>\n",
       "      <td>0.055682</td>\n",
       "      <td>0.20355</td>\n",
       "      <td>interviewee</td>\n",
       "    </tr>\n",
       "    <tr>\n",
       "      <th>64</th>\n",
       "      <td>spk_1</td>\n",
       "      <td>Well, I wish we had done all of this five or s...</td>\n",
       "      <td>0.055682</td>\n",
       "      <td>0.20355</td>\n",
       "      <td>interviewee</td>\n",
       "    </tr>\n",
       "    <tr>\n",
       "      <th>65</th>\n",
       "      <td>spk_0</td>\n",
       "      <td>Well, better late than never. And here we are....</td>\n",
       "      <td>0.055682</td>\n",
       "      <td>0.20355</td>\n",
       "      <td>interviewer</td>\n",
       "    </tr>\n",
       "  </tbody>\n",
       "</table>\n",
       "<p>66 rows × 5 columns</p>\n",
       "</div>"
      ],
      "text/plain": [
       "   speaker                                               text  spk_1_score  \\\n",
       "0    spk_0  And resources at the National University of Si...     0.055682   \n",
       "1    spk_1                             [PII] nice to be here.     0.055682   \n",
       "2    spk_0  Dr [PII] on general practitioner from Dr anywh...     0.055682   \n",
       "3    spk_1    Thank you very much for inviting us here today.     0.055682   \n",
       "4    spk_0    And dr medical director at Felix Medical group.     0.055682   \n",
       "..     ...                                                ...          ...   \n",
       "61   spk_1  I will say vaccinations. You know the accessib...     0.055682   \n",
       "62   spk_0  also the flick of switch and everyone is tomorrow     0.055682   \n",
       "63   spk_1                                           somehow.     0.055682   \n",
       "64   spk_1  Well, I wish we had done all of this five or s...     0.055682   \n",
       "65   spk_0  Well, better late than never. And here we are....     0.055682   \n",
       "\n",
       "    spk_0_score         role  \n",
       "0       0.20355  interviewer  \n",
       "1       0.20355  interviewee  \n",
       "2       0.20355  interviewer  \n",
       "3       0.20355  interviewee  \n",
       "4       0.20355  interviewer  \n",
       "..          ...          ...  \n",
       "61      0.20355  interviewee  \n",
       "62      0.20355  interviewer  \n",
       "63      0.20355  interviewee  \n",
       "64      0.20355  interviewee  \n",
       "65      0.20355  interviewer  \n",
       "\n",
       "[66 rows x 5 columns]"
      ]
     },
     "execution_count": 34,
     "metadata": {},
     "output_type": "execute_result"
    }
   ],
   "source": [
    "transcript"
   ]
  },
  {
   "cell_type": "markdown",
   "metadata": {},
   "source": [
    "### Saving processed results\n",
    "This results are ready for text processing with AWS "
   ]
  },
  {
   "cell_type": "code",
   "execution_count": 35,
   "metadata": {},
   "outputs": [],
   "source": [
    "transcript.to_csv(\"../res/transcript_with_differentiated_interviewer_interviewee.csv\",index=False)"
   ]
  },
  {
   "cell_type": "markdown",
   "metadata": {},
   "source": [
    "moving to AWS SageMaker"
   ]
  }
 ],
 "metadata": {
  "kernelspec": {
   "display_name": "Python 3",
   "language": "python",
   "name": "python3"
  },
  "language_info": {
   "codemirror_mode": {
    "name": "ipython",
    "version": 3
   },
   "file_extension": ".py",
   "mimetype": "text/x-python",
   "name": "python",
   "nbconvert_exporter": "python",
   "pygments_lexer": "ipython3",
   "version": "3.7.3"
  }
 },
 "nbformat": 4,
 "nbformat_minor": 2
}
